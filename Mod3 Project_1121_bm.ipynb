{
 "cells": [
  {
   "cell_type": "markdown",
   "metadata": {},
   "source": [
    "Module 3 Project: Hypothesis testing with Northwind database\n",
    "\n",
    "Name: Bonnie Ma\n",
    "\n",
    "Methodology Used: Independent T-Test, Welch's T-Test, Mann Whitney U Test, ANOVA, Central Limit Theorem\n"
   ]
  },
  {
   "cell_type": "markdown",
   "metadata": {},
   "source": [
    "Process:\n",
    "    - Explore the data\n",
    "    - Develop hypothesis\n",
    "    - Hypothese test\n",
    "    - Interpret the results"
   ]
  },
  {
   "cell_type": "markdown",
   "metadata": {},
   "source": [
    "### Import the librabries "
   ]
  },
  {
   "cell_type": "code",
   "execution_count": 1,
   "metadata": {},
   "outputs": [],
   "source": [
    "import pandas as pd\n",
    "import numpy as np\n",
    "import sqlite3\n",
    "import scipy \n",
    "import matplotlib.pyplot as plt\n",
    "import seaborn as sns\n",
    "import numpy as np\n",
    "import scipy.stats as stats\n",
    "import statsmodels.api as sm\n",
    "\n",
    "\n",
    "%matplotlib inline\n"
   ]
  },
  {
   "cell_type": "code",
   "execution_count": 2,
   "metadata": {},
   "outputs": [],
   "source": [
    "conn = sqlite3.Connection('Northwind_small.sqlite')\n",
    "cur = conn.cursor()"
   ]
  },
  {
   "cell_type": "code",
   "execution_count": 3,
   "metadata": {},
   "outputs": [
    {
     "data": {
      "text/plain": [
       "<sqlite3.Cursor at 0x1c21fe4f10>"
      ]
     },
     "execution_count": 3,
     "metadata": {},
     "output_type": "execute_result"
    }
   ],
   "source": [
    "cur.execute(\n",
    "\"\"\"\n",
    "SELECT name from sqlite_master\n",
    "WHERE type=\"table\";\n",
    "\"\"\")"
   ]
  },
  {
   "cell_type": "code",
   "execution_count": 4,
   "metadata": {},
   "outputs": [
    {
     "data": {
      "text/plain": [
       "[('Employee',),\n",
       " ('Category',),\n",
       " ('Customer',),\n",
       " ('Shipper',),\n",
       " ('Supplier',),\n",
       " ('Order',),\n",
       " ('Product',),\n",
       " ('OrderDetail',),\n",
       " ('CustomerCustomerDemo',),\n",
       " ('CustomerDemographic',),\n",
       " ('Region',),\n",
       " ('Territory',),\n",
       " ('EmployeeTerritory',)]"
      ]
     },
     "execution_count": 4,
     "metadata": {},
     "output_type": "execute_result"
    }
   ],
   "source": [
    "cur.fetchall()"
   ]
  },
  {
   "cell_type": "markdown",
   "metadata": {},
   "source": [
    "### Define Functions"
   ]
  },
  {
   "cell_type": "code",
   "execution_count": 5,
   "metadata": {},
   "outputs": [],
   "source": [
    "def sql_with_cols(query,cursor=cur):\n",
    "  \n",
    "  result = cursor.execute(query).fetchall()\n",
    "  cols = tuple([description[0] for description in cur.description])\n",
    "  \n",
    "  full_result = (cols, result[:])\n",
    "  return full_result\n",
    "\n",
    "def df_sql(query, cursor=cur):\n",
    "    cols, result_data = sql_with_cols(query, cursor)\n",
    "    return pd.DataFrame(data=result_data, columns=cols)"
   ]
  },
  {
   "cell_type": "code",
   "execution_count": 6,
   "metadata": {},
   "outputs": [],
   "source": [
    "def Cohen_d(group1, group2):\n",
    "\n",
    "    # Compute Cohen's d.\n",
    "\n",
    "    # group1: Series or NumPy array\n",
    "    # group2: Series or NumPy array\n",
    "\n",
    "    # returns a floating point number \n",
    "\n",
    "    diff = group1.mean() - group2.mean()\n",
    "\n",
    "    n1, n2 = len(group1), len(group2)\n",
    "    var1 = group1.var()\n",
    "    var2 = group2.var()\n",
    "\n",
    "    # Calculate the pooled threshold as shown earlier\n",
    "    pooled_var = (n1 * var1 + n2 * var2) / (n1 + n2)\n",
    "    \n",
    "    # Calculate Cohen's d statistic\n",
    "    d = diff / np.sqrt(pooled_var)\n",
    "    \n",
    "    return d"
   ]
  },
  {
   "cell_type": "code",
   "execution_count": 7,
   "metadata": {},
   "outputs": [],
   "source": [
    "#Two sample T-Test\n",
    "#def two_sample_ttest(a, b)"
   ]
  },
  {
   "cell_type": "code",
   "execution_count": 8,
   "metadata": {},
   "outputs": [],
   "source": [
    "#Welch's T Test for Samples with different variances\n",
    "def welch_t(a, b):\n",
    "    \n",
    "    \"\"\" Calculate Welch's t statistic for two samples. \"\"\"\n",
    "    \n",
    "    numerator = a.mean() - b.mean()\n",
    "    \n",
    "    # “ddof = Delta Degrees of Freedom”: the divisor used in the calculation is N - ddof, \n",
    "    #  where N represents the number of elements. By default ddof is zero.\n",
    "    \n",
    "    denominator = np.sqrt(a.var(ddof=1)/a.size + b.var(ddof=1)/b.size)\n",
    "    t = np.abs(numerator/denominator)\n",
    "    \n",
    "    return t\n",
    "\n",
    "def welch_df(a, b):\n",
    "    \n",
    "    \"\"\" Calculate the effective degrees of freedom for two samples. \"\"\"\n",
    "    s1 = a.var(ddof=1) \n",
    "    s2 = b.var(ddof=1)\n",
    "    n1 = a.size\n",
    "    n2 = b.size\n",
    "    numerator = (s1/n1 + s2/n2)**2\n",
    "    denominator = (s1/ n1)**2/(n1 - 1) + (s2/ n2)**2/(n2 - 1)\n",
    "    df = numerator/denominator\n",
    "    \n",
    "    return round(df, 0)\n",
    "   \n",
    "     #Return the degrees of freedom\n",
    "\n",
    "def welch_t_p_value(a, b, two_sided=False):\n",
    "    \n",
    "    t = welch_t(a,b)\n",
    "    df = welch_df(a,b)\n",
    "    \n",
    "    p = 1 - stats.t.cdf(t, df)\n",
    "    \n",
    "    if two_sided:\n",
    "        return 2*p\n",
    "    else:\n",
    "        return p\n",
    "    "
   ]
  },
  {
   "cell_type": "code",
   "execution_count": null,
   "metadata": {},
   "outputs": [],
   "source": []
  },
  {
   "cell_type": "markdown",
   "metadata": {},
   "source": [
    "### Question 1: Does discount amount have a statistically significant effect on the quantity of a product in an order? If so, at what level(s) of discount?"
   ]
  },
  {
   "cell_type": "markdown",
   "metadata": {},
   "source": [
    "### 1.1 Hypothesis Statement "
   ]
  },
  {
   "cell_type": "markdown",
   "metadata": {},
   "source": [
    "$H_0$: Discount amount does **not** have a significant effect on the quantity of a product in an order<br>\n",
    "\n",
    "$H_a$: Discount amount does have a significant effect on the quantity of a product in an order<br>\n",
    "\n",
    "Significant level = 95%, alpha = 0.05"
   ]
  },
  {
   "cell_type": "markdown",
   "metadata": {},
   "source": [
    "### 1.2 Data Exploration"
   ]
  },
  {
   "cell_type": "code",
   "execution_count": 9,
   "metadata": {},
   "outputs": [],
   "source": [
    "discount = df_sql(\n",
    "\"\"\"\n",
    "SELECT * FROM OrderDetail\n",
    "\n",
    "\"\"\")"
   ]
  },
  {
   "cell_type": "markdown",
   "metadata": {},
   "source": [
    "Different levels of discount can be categoried into 5 levels based on frequency: 0%, 5%, 10%, 15%, 20%, 25%0%.\n",
    "First we examine no discount at all with at least some level of discount; Secondly, we can run Anova tests on different levels and understand which level has the most impact."
   ]
  },
  {
   "cell_type": "code",
   "execution_count": 10,
   "metadata": {},
   "outputs": [
    {
     "data": {
      "text/plain": [
       "Discount\n",
       "0.00    1317\n",
       "0.01       1\n",
       "0.02       2\n",
       "0.03       3\n",
       "0.04       1\n",
       "0.05     185\n",
       "0.06       1\n",
       "0.10     173\n",
       "0.15     157\n",
       "0.20     161\n",
       "0.25     154\n",
       "Name: Quantity, dtype: int64"
      ]
     },
     "execution_count": 10,
     "metadata": {},
     "output_type": "execute_result"
    }
   ],
   "source": [
    "discount.groupby(\"Discount\")['Quantity'].count()"
   ]
  },
  {
   "cell_type": "code",
   "execution_count": 11,
   "metadata": {
    "scrolled": true
   },
   "outputs": [
    {
     "data": {
      "text/html": [
       "<div>\n",
       "<style scoped>\n",
       "    .dataframe tbody tr th:only-of-type {\n",
       "        vertical-align: middle;\n",
       "    }\n",
       "\n",
       "    .dataframe tbody tr th {\n",
       "        vertical-align: top;\n",
       "    }\n",
       "\n",
       "    .dataframe thead th {\n",
       "        text-align: right;\n",
       "    }\n",
       "</style>\n",
       "<table border=\"1\" class=\"dataframe\">\n",
       "  <thead>\n",
       "    <tr style=\"text-align: right;\">\n",
       "      <th></th>\n",
       "      <th>OrderId</th>\n",
       "      <th>quantity</th>\n",
       "      <th>avg_dis</th>\n",
       "    </tr>\n",
       "  </thead>\n",
       "  <tbody>\n",
       "    <tr>\n",
       "      <th>0</th>\n",
       "      <td>10248</td>\n",
       "      <td>27</td>\n",
       "      <td>0.000000</td>\n",
       "    </tr>\n",
       "    <tr>\n",
       "      <th>1</th>\n",
       "      <td>10249</td>\n",
       "      <td>49</td>\n",
       "      <td>0.000000</td>\n",
       "    </tr>\n",
       "    <tr>\n",
       "      <th>2</th>\n",
       "      <td>10250</td>\n",
       "      <td>60</td>\n",
       "      <td>0.100000</td>\n",
       "    </tr>\n",
       "    <tr>\n",
       "      <th>3</th>\n",
       "      <td>10251</td>\n",
       "      <td>41</td>\n",
       "      <td>0.033333</td>\n",
       "    </tr>\n",
       "    <tr>\n",
       "      <th>4</th>\n",
       "      <td>10252</td>\n",
       "      <td>105</td>\n",
       "      <td>0.033333</td>\n",
       "    </tr>\n",
       "  </tbody>\n",
       "</table>\n",
       "</div>"
      ],
      "text/plain": [
       "   OrderId  quantity   avg_dis\n",
       "0    10248        27  0.000000\n",
       "1    10249        49  0.000000\n",
       "2    10250        60  0.100000\n",
       "3    10251        41  0.033333\n",
       "4    10252       105  0.033333"
      ]
     },
     "execution_count": 11,
     "metadata": {},
     "output_type": "execute_result"
    }
   ],
   "source": [
    "df = df_sql(\"\"\"\n",
    "SELECT OrderId, Sum(Quantity) as quantity, Avg(Discount) as avg_dis FROM OrderDetail\n",
    "\n",
    "GROUP BY OrderId;\n",
    "\n",
    "\"\"\")\n",
    "df.head()"
   ]
  },
  {
   "cell_type": "code",
   "execution_count": 12,
   "metadata": {},
   "outputs": [],
   "source": [
    "#A: NO DISCOUNT\n",
    "#B: HAS DISCOUNT\n",
    "df_nodiscount = df[df['avg_dis']==0]\n",
    "\n",
    "df_discount= df[df['avg_dis']>0]"
   ]
  },
  {
   "cell_type": "code",
   "execution_count": 13,
   "metadata": {},
   "outputs": [
    {
     "data": {
      "text/plain": [
       "52.44"
      ]
     },
     "execution_count": 13,
     "metadata": {},
     "output_type": "execute_result"
    }
   ],
   "source": [
    "a=df_nodiscount['quantity']\n",
    "a.mean()"
   ]
  },
  {
   "cell_type": "code",
   "execution_count": 14,
   "metadata": {},
   "outputs": [
    {
     "data": {
      "text/plain": [
       "72.94473684210526"
      ]
     },
     "execution_count": 14,
     "metadata": {},
     "output_type": "execute_result"
    }
   ],
   "source": [
    "b=df_discount['quantity']\n",
    "b.mean()"
   ]
  },
  {
   "cell_type": "code",
   "execution_count": 15,
   "metadata": {},
   "outputs": [],
   "source": [
    "def visualization(control, experimental):\n",
    "    plt.figure(figsize=(10,6))\n",
    "    sns.distplot(experimental, bins=50,  label='Avg Quantity w/ Discount', color='green')\n",
    "    sns.distplot(control, bins=50,  label='Avg Quantity w/o Discount', color='blue')\n",
    "\n",
    "    plt.axvline(x=control.mean(), color='k', linestyle='--')\n",
    "    plt.axvline(x=experimental.mean(), color='k', linestyle='--')\n",
    "\n",
    "    plt.title('Discount vs Non-Discount', fontsize=14)\n",
    "    plt.xlabel('Distributions')\n",
    "    plt.ylabel('Frequency')\n",
    "    plt.legend()\n",
    "    plt.show()"
   ]
  },
  {
   "cell_type": "code",
   "execution_count": 16,
   "metadata": {},
   "outputs": [
    {
     "name": "stderr",
     "output_type": "stream",
     "text": [
      "/Applications/anaconda3/lib/python3.7/site-packages/scipy/stats/stats.py:1713: FutureWarning: Using a non-tuple sequence for multidimensional indexing is deprecated; use `arr[tuple(seq)]` instead of `arr[seq]`. In the future this will be interpreted as an array index, `arr[np.array(seq)]`, which will result either in an error or a different result.\n",
      "  return np.add.reduce(sorted[indexer] * weights, axis=axis) / sumval\n"
     ]
    },
    {
     "data": {
      "image/png": "[encoded data removed]",
      "text/plain": [
       "<Figure size 720x432 with 1 Axes>"
      ]
     },
     "metadata": {
      "needs_background": "light"
     },
     "output_type": "display_data"
    }
   ],
   "source": [
    "visualization(a, b)"
   ]
  },
  {
   "cell_type": "markdown",
   "metadata": {},
   "source": []
  },
  {
   "cell_type": "markdown",
   "metadata": {},
   "source": [
    "Discount and Non-Discount distributions do not seem to be normally distributed, however, since the sample size is large enough (>30), we can still use T-Test on sample means based on Central Limit Theorem. \n",
    "\n",
    "But we still need to test the equality of variance to decide if 2 sample T-Test or Welch's T-Test should be used. "
   ]
  },
  {
   "cell_type": "markdown",
   "metadata": {},
   "source": [
    "### 1.3 Hypothesis Test"
   ]
  },
  {
   "cell_type": "markdown",
   "metadata": {},
   "source": [
    "### Test of Equal Variance"
   ]
  },
  {
   "cell_type": "markdown",
   "metadata": {},
   "source": [
    "Perform Levene test for equal variances.\n",
    "\n",
    "The Levene test tests the null hypothesis that all input samples are from populations with equal variances. Levene’s test is an alternative to Bartlett’s test bartlett in the case where there are significant deviations from normality."
   ]
  },
  {
   "cell_type": "code",
   "execution_count": 17,
   "metadata": {
    "scrolled": true
   },
   "outputs": [
    {
     "data": {
      "text/plain": [
       "LeveneResult(statistic=1.0369358925445291, pvalue=0.30883261672605483)"
      ]
     },
     "execution_count": 17,
     "metadata": {},
     "output_type": "execute_result"
    }
   ],
   "source": [
    "stats.levene(a, b, center='mean')"
   ]
  },
  {
   "cell_type": "markdown",
   "metadata": {},
   "source": [
    "The Pvalue is 0.3088 > alpha(0.05), so we can not reject the null hypothesis that both samples are from populations with equal variance. Therefore, we can use two sample t test in this case."
   ]
  },
  {
   "cell_type": "markdown",
   "metadata": {},
   "source": [
    "### 2 Sample Independent T-Test"
   ]
  },
  {
   "cell_type": "code",
   "execution_count": 18,
   "metadata": {},
   "outputs": [
    {
     "data": {
      "text/plain": [
       "Ttest_indResult(statistic=-5.91731561103876, pvalue=4.7876655924928625e-09)"
      ]
     },
     "execution_count": 18,
     "metadata": {},
     "output_type": "execute_result"
    }
   ],
   "source": [
    "stats.ttest_ind(a, b, equal_var=True)"
   ]
  },
  {
   "cell_type": "markdown",
   "metadata": {},
   "source": [
    "#### Non Parametric KS Test"
   ]
  },
  {
   "cell_type": "code",
   "execution_count": 19,
   "metadata": {},
   "outputs": [
    {
     "data": {
      "text/plain": [
       "Ks_2sampResult(statistic=0.26900584795321636, pvalue=1.3184694069188487e-13)"
      ]
     },
     "execution_count": 19,
     "metadata": {},
     "output_type": "execute_result"
    }
   ],
   "source": [
    "#compare the distributions\n",
    "stats.ks_2samp(a,b)"
   ]
  },
  {
   "cell_type": "markdown",
   "metadata": {},
   "source": [
    "#### Mann-Whitney Test"
   ]
  },
  {
   "cell_type": "code",
   "execution_count": 20,
   "metadata": {},
   "outputs": [
    {
     "data": {
      "text/plain": [
       "MannwhitneyuResult(statistic=59105.0, pvalue=8.524065415288705e-15)"
      ]
     },
     "execution_count": 20,
     "metadata": {},
     "output_type": "execute_result"
    }
   ],
   "source": [
    "#Non Parametric equivalent of t tests\n",
    "stats.mannwhitneyu(a,b)"
   ]
  },
  {
   "cell_type": "code",
   "execution_count": 21,
   "metadata": {},
   "outputs": [],
   "source": [
    "#Confidence level of 95%\n",
    "alpha = 0.05"
   ]
  },
  {
   "cell_type": "markdown",
   "metadata": {},
   "source": [
    "#### Conclusion: Since pvalue is smaller than alpha, we reject the null. There is significant effect on product quantity when discount exists. "
   ]
  },
  {
   "cell_type": "markdown",
   "metadata": {},
   "source": [
    "#### Effect Size"
   ]
  },
  {
   "cell_type": "code",
   "execution_count": 22,
   "metadata": {},
   "outputs": [],
   "source": [
    "def Cohen_d(group1, group2):\n",
    "\n",
    "    # Compute Cohen's d.\n",
    "\n",
    "    # group1: Series or NumPy array\n",
    "    # group2: Series or NumPy array\n",
    "\n",
    "    # returns a floating point number \n",
    "\n",
    "    diff = group1.mean() - group2.mean()\n",
    "\n",
    "    n1, n2 = len(group1), len(group2)\n",
    "    var1 = group1.var()\n",
    "    var2 = group2.var()\n",
    "\n",
    "    # Calculate the pooled threshold as shown earlier\n",
    "    pooled_var = (n1 * var1 + n2 * var2) / (n1 + n2)\n",
    "    \n",
    "    # Calculate Cohen's d statistic\n",
    "    d = diff / np.sqrt(pooled_var)\n",
    "    \n",
    "    return d"
   ]
  },
  {
   "cell_type": "code",
   "execution_count": 23,
   "metadata": {
    "scrolled": true
   },
   "outputs": [
    {
     "data": {
      "text/plain": [
       "0.4122521666326047"
      ]
     },
     "execution_count": 23,
     "metadata": {},
     "output_type": "execute_result"
    }
   ],
   "source": [
    "abs(Cohen_d(a,b))"
   ]
  },
  {
   "cell_type": "markdown",
   "metadata": {},
   "source": [
    "#### Cohen's D shows the difference is small to medium"
   ]
  },
  {
   "cell_type": "markdown",
   "metadata": {},
   "source": []
  },
  {
   "cell_type": "markdown",
   "metadata": {},
   "source": [
    "### Next examine whether different levels of discount have different impact on quantity volume"
   ]
  },
  {
   "cell_type": "markdown",
   "metadata": {},
   "source": [
    "$H_0$: There is **no** significant difference in impact on quantity between discount levels <br>\n",
    "\n",
    "$H_a$: There is significant difference in impact on quantity between at least one discount levels<br>\n",
    "\n",
    "Significant level = 95%, alpha = 0.05\n"
   ]
  },
  {
   "cell_type": "code",
   "execution_count": 24,
   "metadata": {},
   "outputs": [
    {
     "data": {
      "text/html": [
       "<div>\n",
       "<style scoped>\n",
       "    .dataframe tbody tr th:only-of-type {\n",
       "        vertical-align: middle;\n",
       "    }\n",
       "\n",
       "    .dataframe tbody tr th {\n",
       "        vertical-align: top;\n",
       "    }\n",
       "\n",
       "    .dataframe thead th {\n",
       "        text-align: right;\n",
       "    }\n",
       "</style>\n",
       "<table border=\"1\" class=\"dataframe\">\n",
       "  <thead>\n",
       "    <tr style=\"text-align: right;\">\n",
       "      <th></th>\n",
       "      <th>Id</th>\n",
       "      <th>OrderId</th>\n",
       "      <th>ProductId</th>\n",
       "      <th>UnitPrice</th>\n",
       "      <th>Quantity</th>\n",
       "      <th>Discount</th>\n",
       "    </tr>\n",
       "  </thead>\n",
       "  <tbody>\n",
       "    <tr>\n",
       "      <th>0</th>\n",
       "      <td>10248/11</td>\n",
       "      <td>10248</td>\n",
       "      <td>11</td>\n",
       "      <td>14.0</td>\n",
       "      <td>12</td>\n",
       "      <td>0.0</td>\n",
       "    </tr>\n",
       "    <tr>\n",
       "      <th>1</th>\n",
       "      <td>10248/42</td>\n",
       "      <td>10248</td>\n",
       "      <td>42</td>\n",
       "      <td>9.8</td>\n",
       "      <td>10</td>\n",
       "      <td>0.0</td>\n",
       "    </tr>\n",
       "    <tr>\n",
       "      <th>2</th>\n",
       "      <td>10248/72</td>\n",
       "      <td>10248</td>\n",
       "      <td>72</td>\n",
       "      <td>34.8</td>\n",
       "      <td>5</td>\n",
       "      <td>0.0</td>\n",
       "    </tr>\n",
       "    <tr>\n",
       "      <th>3</th>\n",
       "      <td>10249/14</td>\n",
       "      <td>10249</td>\n",
       "      <td>14</td>\n",
       "      <td>18.6</td>\n",
       "      <td>9</td>\n",
       "      <td>0.0</td>\n",
       "    </tr>\n",
       "    <tr>\n",
       "      <th>4</th>\n",
       "      <td>10249/51</td>\n",
       "      <td>10249</td>\n",
       "      <td>51</td>\n",
       "      <td>42.4</td>\n",
       "      <td>40</td>\n",
       "      <td>0.0</td>\n",
       "    </tr>\n",
       "  </tbody>\n",
       "</table>\n",
       "</div>"
      ],
      "text/plain": [
       "         Id  OrderId  ProductId  UnitPrice  Quantity  Discount\n",
       "0  10248/11    10248         11       14.0        12       0.0\n",
       "1  10248/42    10248         42        9.8        10       0.0\n",
       "2  10248/72    10248         72       34.8         5       0.0\n",
       "3  10249/14    10249         14       18.6         9       0.0\n",
       "4  10249/51    10249         51       42.4        40       0.0"
      ]
     },
     "execution_count": 24,
     "metadata": {},
     "output_type": "execute_result"
    }
   ],
   "source": [
    "discount.head()"
   ]
  },
  {
   "cell_type": "markdown",
   "metadata": {},
   "source": [
    "Data Exploration"
   ]
  },
  {
   "cell_type": "code",
   "execution_count": 25,
   "metadata": {},
   "outputs": [
    {
     "data": {
      "image/png": "[encoded data removed]",
      "text/plain": [
       "<Figure size 432x288 with 1 Axes>"
      ]
     },
     "metadata": {
      "needs_background": "light"
     },
     "output_type": "display_data"
    }
   ],
   "source": [
    "ax = sns.barplot(x=\"Discount\", y=\"Quantity\", data=discount)"
   ]
  },
  {
   "cell_type": "markdown",
   "metadata": {},
   "source": [
    "Only keep 5%, 10%, 15%, 20%, 25%"
   ]
  },
  {
   "cell_type": "markdown",
   "metadata": {},
   "source": [
    "**Data Transformation**"
   ]
  },
  {
   "cell_type": "code",
   "execution_count": 26,
   "metadata": {},
   "outputs": [],
   "source": [
    "discount1 = discount.pivot(columns='Discount',values='Quantity') "
   ]
  },
  {
   "cell_type": "code",
   "execution_count": 27,
   "metadata": {},
   "outputs": [
    {
     "name": "stdout",
     "output_type": "stream",
     "text": [
      "<class 'pandas.core.frame.DataFrame'>\n",
      "Int64Index: 2155 entries, 0 to 2154\n",
      "Data columns (total 11 columns):\n",
      "0.0     1317 non-null float64\n",
      "0.01    1 non-null float64\n",
      "0.02    2 non-null float64\n",
      "0.03    3 non-null float64\n",
      "0.04    1 non-null float64\n",
      "0.05    185 non-null float64\n",
      "0.06    1 non-null float64\n",
      "0.1     173 non-null float64\n",
      "0.15    157 non-null float64\n",
      "0.2     161 non-null float64\n",
      "0.25    154 non-null float64\n",
      "dtypes: float64(11)\n",
      "memory usage: 202.0 KB\n"
     ]
    }
   ],
   "source": [
    "discount1.info()"
   ]
  },
  {
   "cell_type": "code",
   "execution_count": 29,
   "metadata": {},
   "outputs": [],
   "source": [
    "discount2 = discount1.drop(columns={0.01,0.02,0.03,0.04,0.06})"
   ]
  },
  {
   "cell_type": "code",
   "execution_count": 30,
   "metadata": {},
   "outputs": [],
   "source": [
    "discount2 = discount1.rename(columns={0.0:\"A\",0.05:\"B\",0.1:\"C\",0.15:\"D\",0.2:\"E\",0.25:\"F\"})"
   ]
  },
  {
   "cell_type": "code",
   "execution_count": 31,
   "metadata": {},
   "outputs": [
    {
     "data": {
      "text/html": [
       "<div>\n",
       "<style scoped>\n",
       "    .dataframe tbody tr th:only-of-type {\n",
       "        vertical-align: middle;\n",
       "    }\n",
       "\n",
       "    .dataframe tbody tr th {\n",
       "        vertical-align: top;\n",
       "    }\n",
       "\n",
       "    .dataframe thead th {\n",
       "        text-align: right;\n",
       "    }\n",
       "</style>\n",
       "<table border=\"1\" class=\"dataframe\">\n",
       "  <thead>\n",
       "    <tr style=\"text-align: right;\">\n",
       "      <th>Discount</th>\n",
       "      <th>A</th>\n",
       "      <th>0.01</th>\n",
       "      <th>0.02</th>\n",
       "      <th>0.03</th>\n",
       "      <th>0.04</th>\n",
       "      <th>B</th>\n",
       "      <th>0.06</th>\n",
       "      <th>C</th>\n",
       "      <th>D</th>\n",
       "      <th>E</th>\n",
       "      <th>F</th>\n",
       "    </tr>\n",
       "  </thead>\n",
       "  <tbody>\n",
       "    <tr>\n",
       "      <th>0</th>\n",
       "      <td>12.0</td>\n",
       "      <td>NaN</td>\n",
       "      <td>NaN</td>\n",
       "      <td>NaN</td>\n",
       "      <td>NaN</td>\n",
       "      <td>NaN</td>\n",
       "      <td>NaN</td>\n",
       "      <td>NaN</td>\n",
       "      <td>NaN</td>\n",
       "      <td>NaN</td>\n",
       "      <td>NaN</td>\n",
       "    </tr>\n",
       "    <tr>\n",
       "      <th>1</th>\n",
       "      <td>10.0</td>\n",
       "      <td>NaN</td>\n",
       "      <td>NaN</td>\n",
       "      <td>NaN</td>\n",
       "      <td>NaN</td>\n",
       "      <td>NaN</td>\n",
       "      <td>NaN</td>\n",
       "      <td>NaN</td>\n",
       "      <td>NaN</td>\n",
       "      <td>NaN</td>\n",
       "      <td>NaN</td>\n",
       "    </tr>\n",
       "    <tr>\n",
       "      <th>2</th>\n",
       "      <td>5.0</td>\n",
       "      <td>NaN</td>\n",
       "      <td>NaN</td>\n",
       "      <td>NaN</td>\n",
       "      <td>NaN</td>\n",
       "      <td>NaN</td>\n",
       "      <td>NaN</td>\n",
       "      <td>NaN</td>\n",
       "      <td>NaN</td>\n",
       "      <td>NaN</td>\n",
       "      <td>NaN</td>\n",
       "    </tr>\n",
       "    <tr>\n",
       "      <th>3</th>\n",
       "      <td>9.0</td>\n",
       "      <td>NaN</td>\n",
       "      <td>NaN</td>\n",
       "      <td>NaN</td>\n",
       "      <td>NaN</td>\n",
       "      <td>NaN</td>\n",
       "      <td>NaN</td>\n",
       "      <td>NaN</td>\n",
       "      <td>NaN</td>\n",
       "      <td>NaN</td>\n",
       "      <td>NaN</td>\n",
       "    </tr>\n",
       "    <tr>\n",
       "      <th>4</th>\n",
       "      <td>40.0</td>\n",
       "      <td>NaN</td>\n",
       "      <td>NaN</td>\n",
       "      <td>NaN</td>\n",
       "      <td>NaN</td>\n",
       "      <td>NaN</td>\n",
       "      <td>NaN</td>\n",
       "      <td>NaN</td>\n",
       "      <td>NaN</td>\n",
       "      <td>NaN</td>\n",
       "      <td>NaN</td>\n",
       "    </tr>\n",
       "  </tbody>\n",
       "</table>\n",
       "</div>"
      ],
      "text/plain": [
       "Discount     A  0.01  0.02  0.03  0.04   B  0.06   C   D   E   F\n",
       "0         12.0   NaN   NaN   NaN   NaN NaN   NaN NaN NaN NaN NaN\n",
       "1         10.0   NaN   NaN   NaN   NaN NaN   NaN NaN NaN NaN NaN\n",
       "2          5.0   NaN   NaN   NaN   NaN NaN   NaN NaN NaN NaN NaN\n",
       "3          9.0   NaN   NaN   NaN   NaN NaN   NaN NaN NaN NaN NaN\n",
       "4         40.0   NaN   NaN   NaN   NaN NaN   NaN NaN NaN NaN NaN"
      ]
     },
     "execution_count": 31,
     "metadata": {},
     "output_type": "execute_result"
    }
   ],
   "source": [
    "discount2.head()"
   ]
  },
  {
   "cell_type": "code",
   "execution_count": 32,
   "metadata": {},
   "outputs": [],
   "source": [
    "A = discount2['A'].dropna()\n",
    "B = discount2['B'].dropna()\n",
    "C = discount2['C'].dropna()\n",
    "D = discount2['D'].dropna()\n",
    "E = discount2['E'].dropna()\n",
    "F = discount2['F'].dropna()"
   ]
  },
  {
   "cell_type": "markdown",
   "metadata": {},
   "source": [
    "### Test for equality of variances for 5 discount groups"
   ]
  },
  {
   "cell_type": "code",
   "execution_count": 33,
   "metadata": {},
   "outputs": [
    {
     "data": {
      "text/plain": [
       "LeveneResult(statistic=0.2092544330590371, pvalue=0.9333364288844539)"
      ]
     },
     "execution_count": 33,
     "metadata": {},
     "output_type": "execute_result"
    }
   ],
   "source": [
    "stats.levene(B,C,D,E,F)"
   ]
  },
  {
   "cell_type": "markdown",
   "metadata": {},
   "source": [
    "Since Pvalue > alpha (0.05), we can not reject the null which believes samples are from population with equal variance. We can use ANOVA test."
   ]
  },
  {
   "cell_type": "markdown",
   "metadata": {},
   "source": [
    "#### Use stats.f_oneway "
   ]
  },
  {
   "cell_type": "code",
   "execution_count": 34,
   "metadata": {},
   "outputs": [
    {
     "name": "stdout",
     "output_type": "stream",
     "text": [
      "F-stat: 0.6741032559876151\n",
      "p-value: 0.610041445360832\n"
     ]
    }
   ],
   "source": [
    "f_stat, p_value = stats.f_oneway(B,C,D,E,F)\n",
    "print('F-stat:',f_stat)\n",
    "print('p-value:',p_value)"
   ]
  },
  {
   "cell_type": "markdown",
   "metadata": {},
   "source": [
    "#### Use multiple linear regression"
   ]
  },
  {
   "cell_type": "code",
   "execution_count": 35,
   "metadata": {},
   "outputs": [],
   "source": [
    "df = df_sql(\n",
    "\"\"\"\n",
    "SELECT * FROM OrderDetail\n",
    "WHERE Discount IN (0.05, 0.1, 0.15, 0.2, 0.25);\n",
    "\n",
    "\"\"\")"
   ]
  },
  {
   "cell_type": "code",
   "execution_count": 36,
   "metadata": {},
   "outputs": [
    {
     "data": {
      "text/html": [
       "<div>\n",
       "<style scoped>\n",
       "    .dataframe tbody tr th:only-of-type {\n",
       "        vertical-align: middle;\n",
       "    }\n",
       "\n",
       "    .dataframe tbody tr th {\n",
       "        vertical-align: top;\n",
       "    }\n",
       "\n",
       "    .dataframe thead th {\n",
       "        text-align: right;\n",
       "    }\n",
       "</style>\n",
       "<table border=\"1\" class=\"dataframe\">\n",
       "  <thead>\n",
       "    <tr style=\"text-align: right;\">\n",
       "      <th></th>\n",
       "      <th>Id</th>\n",
       "      <th>OrderId</th>\n",
       "      <th>ProductId</th>\n",
       "      <th>UnitPrice</th>\n",
       "      <th>Quantity</th>\n",
       "      <th>Discount</th>\n",
       "    </tr>\n",
       "  </thead>\n",
       "  <tbody>\n",
       "    <tr>\n",
       "      <th>0</th>\n",
       "      <td>10250/51</td>\n",
       "      <td>10250</td>\n",
       "      <td>51</td>\n",
       "      <td>42.4</td>\n",
       "      <td>35</td>\n",
       "      <td>0.15</td>\n",
       "    </tr>\n",
       "    <tr>\n",
       "      <th>1</th>\n",
       "      <td>10250/65</td>\n",
       "      <td>10250</td>\n",
       "      <td>65</td>\n",
       "      <td>16.8</td>\n",
       "      <td>15</td>\n",
       "      <td>0.15</td>\n",
       "    </tr>\n",
       "    <tr>\n",
       "      <th>2</th>\n",
       "      <td>10251/22</td>\n",
       "      <td>10251</td>\n",
       "      <td>22</td>\n",
       "      <td>16.8</td>\n",
       "      <td>6</td>\n",
       "      <td>0.05</td>\n",
       "    </tr>\n",
       "    <tr>\n",
       "      <th>3</th>\n",
       "      <td>10251/57</td>\n",
       "      <td>10251</td>\n",
       "      <td>57</td>\n",
       "      <td>15.6</td>\n",
       "      <td>15</td>\n",
       "      <td>0.05</td>\n",
       "    </tr>\n",
       "    <tr>\n",
       "      <th>4</th>\n",
       "      <td>10252/20</td>\n",
       "      <td>10252</td>\n",
       "      <td>20</td>\n",
       "      <td>64.8</td>\n",
       "      <td>40</td>\n",
       "      <td>0.05</td>\n",
       "    </tr>\n",
       "  </tbody>\n",
       "</table>\n",
       "</div>"
      ],
      "text/plain": [
       "         Id  OrderId  ProductId  UnitPrice  Quantity  Discount\n",
       "0  10250/51    10250         51       42.4        35      0.15\n",
       "1  10250/65    10250         65       16.8        15      0.15\n",
       "2  10251/22    10251         22       16.8         6      0.05\n",
       "3  10251/57    10251         57       15.6        15      0.05\n",
       "4  10252/20    10252         20       64.8        40      0.05"
      ]
     },
     "execution_count": 36,
     "metadata": {},
     "output_type": "execute_result"
    }
   ],
   "source": [
    "df.head()"
   ]
  },
  {
   "cell_type": "code",
   "execution_count": 37,
   "metadata": {},
   "outputs": [
    {
     "name": "stderr",
     "output_type": "stream",
     "text": [
      "/Applications/anaconda3/lib/python3.7/site-packages/scipy/stats/stats.py:1713: FutureWarning: Using a non-tuple sequence for multidimensional indexing is deprecated; use `arr[tuple(seq)]` instead of `arr[seq]`. In the future this will be interpreted as an array index, `arr[np.array(seq)]`, which will result either in an error or a different result.\n",
      "  return np.add.reduce(sorted[indexer] * weights, axis=axis) / sumval\n"
     ]
    },
    {
     "data": {
      "image/png": "[encoded data removed]",
      "text/plain": [
       "<Figure size 432x288 with 1 Axes>"
      ]
     },
     "metadata": {
      "needs_background": "light"
     },
     "output_type": "display_data"
    }
   ],
   "source": [
    "ax = sns.barplot(x='Discount', y='Quantity', data = df)"
   ]
  },
  {
   "cell_type": "code",
   "execution_count": 38,
   "metadata": {},
   "outputs": [],
   "source": [
    "df['Discount'] = df['Discount'].astype('category')"
   ]
  },
  {
   "cell_type": "code",
   "execution_count": 39,
   "metadata": {},
   "outputs": [
    {
     "data": {
      "text/html": [
       "<div>\n",
       "<style scoped>\n",
       "    .dataframe tbody tr th:only-of-type {\n",
       "        vertical-align: middle;\n",
       "    }\n",
       "\n",
       "    .dataframe tbody tr th {\n",
       "        vertical-align: top;\n",
       "    }\n",
       "\n",
       "    .dataframe thead th {\n",
       "        text-align: right;\n",
       "    }\n",
       "</style>\n",
       "<table border=\"1\" class=\"dataframe\">\n",
       "  <thead>\n",
       "    <tr style=\"text-align: right;\">\n",
       "      <th></th>\n",
       "      <th>Id</th>\n",
       "      <th>OrderId</th>\n",
       "      <th>ProductId</th>\n",
       "      <th>UnitPrice</th>\n",
       "      <th>Quantity</th>\n",
       "      <th>Discount</th>\n",
       "    </tr>\n",
       "  </thead>\n",
       "  <tbody>\n",
       "    <tr>\n",
       "      <th>0</th>\n",
       "      <td>10250/51</td>\n",
       "      <td>10250</td>\n",
       "      <td>51</td>\n",
       "      <td>42.4</td>\n",
       "      <td>35</td>\n",
       "      <td>0.15</td>\n",
       "    </tr>\n",
       "    <tr>\n",
       "      <th>1</th>\n",
       "      <td>10250/65</td>\n",
       "      <td>10250</td>\n",
       "      <td>65</td>\n",
       "      <td>16.8</td>\n",
       "      <td>15</td>\n",
       "      <td>0.15</td>\n",
       "    </tr>\n",
       "    <tr>\n",
       "      <th>2</th>\n",
       "      <td>10251/22</td>\n",
       "      <td>10251</td>\n",
       "      <td>22</td>\n",
       "      <td>16.8</td>\n",
       "      <td>6</td>\n",
       "      <td>0.05</td>\n",
       "    </tr>\n",
       "    <tr>\n",
       "      <th>3</th>\n",
       "      <td>10251/57</td>\n",
       "      <td>10251</td>\n",
       "      <td>57</td>\n",
       "      <td>15.6</td>\n",
       "      <td>15</td>\n",
       "      <td>0.05</td>\n",
       "    </tr>\n",
       "    <tr>\n",
       "      <th>4</th>\n",
       "      <td>10252/20</td>\n",
       "      <td>10252</td>\n",
       "      <td>20</td>\n",
       "      <td>64.8</td>\n",
       "      <td>40</td>\n",
       "      <td>0.05</td>\n",
       "    </tr>\n",
       "  </tbody>\n",
       "</table>\n",
       "</div>"
      ],
      "text/plain": [
       "         Id  OrderId  ProductId  UnitPrice  Quantity Discount\n",
       "0  10250/51    10250         51       42.4        35     0.15\n",
       "1  10250/65    10250         65       16.8        15     0.15\n",
       "2  10251/22    10251         22       16.8         6     0.05\n",
       "3  10251/57    10251         57       15.6        15     0.05\n",
       "4  10252/20    10252         20       64.8        40     0.05"
      ]
     },
     "execution_count": 39,
     "metadata": {},
     "output_type": "execute_result"
    }
   ],
   "source": [
    "df.head()"
   ]
  },
  {
   "cell_type": "code",
   "execution_count": 40,
   "metadata": {},
   "outputs": [],
   "source": [
    "import statsmodels.api as sm\n",
    "from statsmodels.formula.api import ols"
   ]
  },
  {
   "cell_type": "code",
   "execution_count": 41,
   "metadata": {},
   "outputs": [
    {
     "name": "stdout",
     "output_type": "stream",
     "text": [
      "             df         sum_sq     mean_sq         F    PR(>F)\n",
      "Discount    4.0    1159.517551  289.879388  0.674103  0.610041\n",
      "Residual  825.0  354768.342690  430.022234       NaN       NaN\n"
     ]
    }
   ],
   "source": [
    "results = ols('Quantity ~ Discount', data=df).fit()\n",
    "\n",
    "table = sm.stats.anova_lm(results, typ=1)\n",
    "\n",
    "print(table)"
   ]
  },
  {
   "cell_type": "code",
   "execution_count": null,
   "metadata": {},
   "outputs": [],
   "source": []
  },
  {
   "cell_type": "code",
   "execution_count": 42,
   "metadata": {
    "scrolled": true
   },
   "outputs": [
    {
     "name": "stdout",
     "output_type": "stream",
     "text": [
      "Multiple Comparison of Means - Tukey HSD,FWER=0.05\n",
      "============================================\n",
      "group1 group2 meandiff  lower  upper  reject\n",
      "--------------------------------------------\n",
      " 0.05   0.1   -2.7738  -8.7696 3.222  False \n",
      " 0.05   0.15   0.3714  -5.7803 6.523  False \n",
      " 0.05   0.2    -0.986  -7.0962 5.1242 False \n",
      " 0.05   0.25   0.2294  -5.9546 6.4134 False \n",
      " 0.1    0.15   3.1452  -3.1037 9.394  False \n",
      " 0.1    0.2    1.7879  -4.4202 7.9959 False \n",
      " 0.1    0.25   3.0033  -3.2774 9.2839 False \n",
      " 0.15   0.2   -1.3573   -7.716 5.0014 False \n",
      " 0.15   0.25  -0.1419  -6.5715 6.2877 False \n",
      " 0.2    0.25   1.2154  -5.1745 7.6054 False \n",
      "--------------------------------------------\n"
     ]
    },
    {
     "data": {
      "image/png": "[encoded data removed]",
      "text/plain": [
       "<Figure size 720x432 with 1 Axes>"
      ]
     },
     "execution_count": 42,
     "metadata": {},
     "output_type": "execute_result"
    },
    {
     "data": {
      "image/png": "[encoded data removed]",
      "text/plain": [
       "<Figure size 720x432 with 1 Axes>"
      ]
     },
     "metadata": {
      "needs_background": "light"
     },
     "output_type": "display_data"
    }
   ],
   "source": [
    "#Do Tukey's after Anova, Tukey makes your alpha even smaller.\n",
    "from statsmodels.stats.multicomp import MultiComparison\n",
    "from statsmodels.stats.multicomp import pairwise_tukeyhsd\n",
    "\n",
    "com = MultiComparison(df['Quantity'],df['Discount'])\n",
    "tukey = com.tukeyhsd()\n",
    "print(tukey.summary())\n",
    "tukey.plot_simultaneous(comparison_name = 0.05, figsize=(10,6), ylabel='Discount Percentage', xlabel='Product Quantity')"
   ]
  },
  {
   "cell_type": "markdown",
   "metadata": {},
   "source": [
    "### 1.4 Result Intepretation"
   ]
  },
  {
   "cell_type": "markdown",
   "metadata": {},
   "source": [
    "- There is significant difference between Discount vs Non Discount\n",
    "- There is no signicant difference among different discount levels"
   ]
  },
  {
   "cell_type": "code",
   "execution_count": null,
   "metadata": {},
   "outputs": [],
   "source": []
  },
  {
   "cell_type": "code",
   "execution_count": null,
   "metadata": {},
   "outputs": [],
   "source": []
  },
  {
   "cell_type": "code",
   "execution_count": null,
   "metadata": {},
   "outputs": [],
   "source": []
  },
  {
   "cell_type": "code",
   "execution_count": null,
   "metadata": {},
   "outputs": [],
   "source": []
  },
  {
   "cell_type": "code",
   "execution_count": null,
   "metadata": {},
   "outputs": [],
   "source": []
  },
  {
   "cell_type": "markdown",
   "metadata": {},
   "source": [
    "## Question 2: Does different regions perform the same?\n",
    "\n",
    "- Do they generate the same revenue? \n",
    "- Does discount have same impact on each region?\n",
    "- Does Freight differ from region to region?"
   ]
  },
  {
   "cell_type": "markdown",
   "metadata": {},
   "source": [
    "### 2.1 Hypothesis Development"
   ]
  },
  {
   "cell_type": "markdown",
   "metadata": {},
   "source": [
    "$H_0$: The average revenue per customer is **NOT** different across regions<br>\n",
    "\n",
    "$H_a$: The average revenue per customer **IS** different across regions<br>\n",
    "\n",
    "Significant level = 95%, alpha = 0.05"
   ]
  },
  {
   "cell_type": "markdown",
   "metadata": {},
   "source": [
    "### 2.2 Data Exploration"
   ]
  },
  {
   "cell_type": "markdown",
   "metadata": {},
   "source": [
    "Join Order and OrderDetail to get total revenue from all regions"
   ]
  },
  {
   "cell_type": "code",
   "execution_count": 162,
   "metadata": {},
   "outputs": [],
   "source": [
    "customer = df_sql(\n",
    "\"\"\"\n",
    "SELECT * FROM Customer\n",
    "\n",
    "       \"\"\")"
   ]
  },
  {
   "cell_type": "code",
   "execution_count": 163,
   "metadata": {
    "scrolled": true
   },
   "outputs": [
    {
     "data": {
      "text/html": [
       "<div>\n",
       "<style scoped>\n",
       "    .dataframe tbody tr th:only-of-type {\n",
       "        vertical-align: middle;\n",
       "    }\n",
       "\n",
       "    .dataframe tbody tr th {\n",
       "        vertical-align: top;\n",
       "    }\n",
       "\n",
       "    .dataframe thead th {\n",
       "        text-align: right;\n",
       "    }\n",
       "</style>\n",
       "<table border=\"1\" class=\"dataframe\">\n",
       "  <thead>\n",
       "    <tr style=\"text-align: right;\">\n",
       "      <th></th>\n",
       "      <th>Id</th>\n",
       "      <th>CompanyName</th>\n",
       "      <th>ContactName</th>\n",
       "      <th>ContactTitle</th>\n",
       "      <th>Address</th>\n",
       "      <th>City</th>\n",
       "      <th>Region</th>\n",
       "      <th>PostalCode</th>\n",
       "      <th>Country</th>\n",
       "      <th>Phone</th>\n",
       "      <th>Fax</th>\n",
       "    </tr>\n",
       "  </thead>\n",
       "  <tbody>\n",
       "    <tr>\n",
       "      <th>0</th>\n",
       "      <td>ALFKI</td>\n",
       "      <td>Alfreds Futterkiste</td>\n",
       "      <td>Maria Anders</td>\n",
       "      <td>Sales Representative</td>\n",
       "      <td>Obere Str. 57</td>\n",
       "      <td>Berlin</td>\n",
       "      <td>Western Europe</td>\n",
       "      <td>12209</td>\n",
       "      <td>Germany</td>\n",
       "      <td>030-0074321</td>\n",
       "      <td>030-0076545</td>\n",
       "    </tr>\n",
       "    <tr>\n",
       "      <th>1</th>\n",
       "      <td>ANATR</td>\n",
       "      <td>Ana Trujillo Emparedados y helados</td>\n",
       "      <td>Ana Trujillo</td>\n",
       "      <td>Owner</td>\n",
       "      <td>Avda. de la Constitución 2222</td>\n",
       "      <td>México D.F.</td>\n",
       "      <td>Central America</td>\n",
       "      <td>05021</td>\n",
       "      <td>Mexico</td>\n",
       "      <td>(5) 555-4729</td>\n",
       "      <td>(5) 555-3745</td>\n",
       "    </tr>\n",
       "    <tr>\n",
       "      <th>2</th>\n",
       "      <td>ANTON</td>\n",
       "      <td>Antonio Moreno Taquería</td>\n",
       "      <td>Antonio Moreno</td>\n",
       "      <td>Owner</td>\n",
       "      <td>Mataderos  2312</td>\n",
       "      <td>México D.F.</td>\n",
       "      <td>Central America</td>\n",
       "      <td>05023</td>\n",
       "      <td>Mexico</td>\n",
       "      <td>(5) 555-3932</td>\n",
       "      <td>None</td>\n",
       "    </tr>\n",
       "    <tr>\n",
       "      <th>3</th>\n",
       "      <td>AROUT</td>\n",
       "      <td>Around the Horn</td>\n",
       "      <td>Thomas Hardy</td>\n",
       "      <td>Sales Representative</td>\n",
       "      <td>120 Hanover Sq.</td>\n",
       "      <td>London</td>\n",
       "      <td>British Isles</td>\n",
       "      <td>WA1 1DP</td>\n",
       "      <td>UK</td>\n",
       "      <td>(171) 555-7788</td>\n",
       "      <td>(171) 555-6750</td>\n",
       "    </tr>\n",
       "    <tr>\n",
       "      <th>4</th>\n",
       "      <td>BERGS</td>\n",
       "      <td>Berglunds snabbköp</td>\n",
       "      <td>Christina Berglund</td>\n",
       "      <td>Order Administrator</td>\n",
       "      <td>Berguvsvägen  8</td>\n",
       "      <td>Luleå</td>\n",
       "      <td>Northern Europe</td>\n",
       "      <td>S-958 22</td>\n",
       "      <td>Sweden</td>\n",
       "      <td>0921-12 34 65</td>\n",
       "      <td>0921-12 34 67</td>\n",
       "    </tr>\n",
       "  </tbody>\n",
       "</table>\n",
       "</div>"
      ],
      "text/plain": [
       "      Id                         CompanyName         ContactName  \\\n",
       "0  ALFKI                 Alfreds Futterkiste        Maria Anders   \n",
       "1  ANATR  Ana Trujillo Emparedados y helados        Ana Trujillo   \n",
       "2  ANTON             Antonio Moreno Taquería      Antonio Moreno   \n",
       "3  AROUT                     Around the Horn        Thomas Hardy   \n",
       "4  BERGS                  Berglunds snabbköp  Christina Berglund   \n",
       "\n",
       "           ContactTitle                        Address         City  \\\n",
       "0  Sales Representative                  Obere Str. 57       Berlin   \n",
       "1                 Owner  Avda. de la Constitución 2222  México D.F.   \n",
       "2                 Owner                Mataderos  2312  México D.F.   \n",
       "3  Sales Representative                120 Hanover Sq.       London   \n",
       "4   Order Administrator                Berguvsvägen  8        Luleå   \n",
       "\n",
       "            Region PostalCode  Country           Phone             Fax  \n",
       "0   Western Europe      12209  Germany     030-0074321     030-0076545  \n",
       "1  Central America      05021   Mexico    (5) 555-4729    (5) 555-3745  \n",
       "2  Central America      05023   Mexico    (5) 555-3932            None  \n",
       "3    British Isles    WA1 1DP       UK  (171) 555-7788  (171) 555-6750  \n",
       "4  Northern Europe   S-958 22   Sweden   0921-12 34 65   0921-12 34 67  "
      ]
     },
     "execution_count": 163,
     "metadata": {},
     "output_type": "execute_result"
    }
   ],
   "source": [
    "customer.head()"
   ]
  },
  {
   "cell_type": "code",
   "execution_count": 164,
   "metadata": {},
   "outputs": [],
   "source": [
    "df = df_sql(\n",
    "\"\"\"\n",
    "SELECT O.CustomerID, C.Region, D.UnitPrice, D.Quantity, D.Discount  FROM Customer C\n",
    "JOIN 'Order' O\n",
    "ON C.ID = O.CustomerId\n",
    "JOIN OrderDetail D\n",
    "ON D.OrderId = O.Id\n",
    "\n",
    "       \"\"\")"
   ]
  },
  {
   "cell_type": "code",
   "execution_count": 165,
   "metadata": {},
   "outputs": [
    {
     "data": {
      "text/html": [
       "<div>\n",
       "<style scoped>\n",
       "    .dataframe tbody tr th:only-of-type {\n",
       "        vertical-align: middle;\n",
       "    }\n",
       "\n",
       "    .dataframe tbody tr th {\n",
       "        vertical-align: top;\n",
       "    }\n",
       "\n",
       "    .dataframe thead th {\n",
       "        text-align: right;\n",
       "    }\n",
       "</style>\n",
       "<table border=\"1\" class=\"dataframe\">\n",
       "  <thead>\n",
       "    <tr style=\"text-align: right;\">\n",
       "      <th></th>\n",
       "      <th>CustomerId</th>\n",
       "      <th>Region</th>\n",
       "      <th>UnitPrice</th>\n",
       "      <th>Quantity</th>\n",
       "      <th>Discount</th>\n",
       "    </tr>\n",
       "  </thead>\n",
       "  <tbody>\n",
       "    <tr>\n",
       "      <th>0</th>\n",
       "      <td>VINET</td>\n",
       "      <td>Western Europe</td>\n",
       "      <td>14.0</td>\n",
       "      <td>12</td>\n",
       "      <td>0.0</td>\n",
       "    </tr>\n",
       "    <tr>\n",
       "      <th>1</th>\n",
       "      <td>VINET</td>\n",
       "      <td>Western Europe</td>\n",
       "      <td>9.8</td>\n",
       "      <td>10</td>\n",
       "      <td>0.0</td>\n",
       "    </tr>\n",
       "    <tr>\n",
       "      <th>2</th>\n",
       "      <td>VINET</td>\n",
       "      <td>Western Europe</td>\n",
       "      <td>34.8</td>\n",
       "      <td>5</td>\n",
       "      <td>0.0</td>\n",
       "    </tr>\n",
       "    <tr>\n",
       "      <th>3</th>\n",
       "      <td>TOMSP</td>\n",
       "      <td>Western Europe</td>\n",
       "      <td>18.6</td>\n",
       "      <td>9</td>\n",
       "      <td>0.0</td>\n",
       "    </tr>\n",
       "    <tr>\n",
       "      <th>4</th>\n",
       "      <td>TOMSP</td>\n",
       "      <td>Western Europe</td>\n",
       "      <td>42.4</td>\n",
       "      <td>40</td>\n",
       "      <td>0.0</td>\n",
       "    </tr>\n",
       "  </tbody>\n",
       "</table>\n",
       "</div>"
      ],
      "text/plain": [
       "  CustomerId          Region  UnitPrice  Quantity  Discount\n",
       "0      VINET  Western Europe       14.0        12       0.0\n",
       "1      VINET  Western Europe        9.8        10       0.0\n",
       "2      VINET  Western Europe       34.8         5       0.0\n",
       "3      TOMSP  Western Europe       18.6         9       0.0\n",
       "4      TOMSP  Western Europe       42.4        40       0.0"
      ]
     },
     "execution_count": 165,
     "metadata": {},
     "output_type": "execute_result"
    }
   ],
   "source": [
    "df.head()"
   ]
  },
  {
   "cell_type": "code",
   "execution_count": 166,
   "metadata": {},
   "outputs": [],
   "source": [
    "df['Revenue']=df['Quantity']*df['UnitPrice']*(1-df['Discount'])\n"
   ]
  },
  {
   "cell_type": "code",
   "execution_count": 167,
   "metadata": {
    "scrolled": true
   },
   "outputs": [
    {
     "data": {
      "text/plain": [
       "<matplotlib.axes._subplots.AxesSubplot at 0x1c253932b0>"
      ]
     },
     "execution_count": 167,
     "metadata": {},
     "output_type": "execute_result"
    },
    {
     "data": {
      "image/png": "[encoded data removed]",
      "text/plain": [
       "<Figure size 432x288 with 1 Axes>"
      ]
     },
     "metadata": {
      "needs_background": "light"
     },
     "output_type": "display_data"
    }
   ],
   "source": [
    "df.groupby('Region')['Revenue'].sum().plot.bar()"
   ]
  },
  {
   "cell_type": "code",
   "execution_count": 168,
   "metadata": {},
   "outputs": [
    {
     "data": {
      "text/html": [
       "<div>\n",
       "<style scoped>\n",
       "    .dataframe tbody tr th:only-of-type {\n",
       "        vertical-align: middle;\n",
       "    }\n",
       "\n",
       "    .dataframe tbody tr th {\n",
       "        vertical-align: top;\n",
       "    }\n",
       "\n",
       "    .dataframe thead th {\n",
       "        text-align: right;\n",
       "    }\n",
       "</style>\n",
       "<table border=\"1\" class=\"dataframe\">\n",
       "  <thead>\n",
       "    <tr style=\"text-align: right;\">\n",
       "      <th></th>\n",
       "      <th>min</th>\n",
       "      <th>max</th>\n",
       "      <th>sum</th>\n",
       "      <th>mean</th>\n",
       "    </tr>\n",
       "    <tr>\n",
       "      <th>Region</th>\n",
       "      <th></th>\n",
       "      <th></th>\n",
       "      <th></th>\n",
       "      <th></th>\n",
       "    </tr>\n",
       "  </thead>\n",
       "  <tbody>\n",
       "    <tr>\n",
       "      <th>British Isles</th>\n",
       "      <td>4.80</td>\n",
       "      <td>9903.2</td>\n",
       "      <td>108951.2150</td>\n",
       "      <td>573.427447</td>\n",
       "    </tr>\n",
       "    <tr>\n",
       "      <th>Central America</th>\n",
       "      <td>20.80</td>\n",
       "      <td>3952.5</td>\n",
       "      <td>16558.1000</td>\n",
       "      <td>301.056364</td>\n",
       "    </tr>\n",
       "    <tr>\n",
       "      <th>Eastern Europe</th>\n",
       "      <td>22.35</td>\n",
       "      <td>591.6</td>\n",
       "      <td>3531.9500</td>\n",
       "      <td>220.746875</td>\n",
       "    </tr>\n",
       "    <tr>\n",
       "      <th>North America</th>\n",
       "      <td>14.00</td>\n",
       "      <td>10540.0</td>\n",
       "      <td>295780.9005</td>\n",
       "      <td>692.695317</td>\n",
       "    </tr>\n",
       "    <tr>\n",
       "      <th>Northern Europe</th>\n",
       "      <td>14.40</td>\n",
       "      <td>10540.0</td>\n",
       "      <td>87156.1625</td>\n",
       "      <td>609.483654</td>\n",
       "    </tr>\n",
       "    <tr>\n",
       "      <th>Scandinavia</th>\n",
       "      <td>17.88</td>\n",
       "      <td>2108.0</td>\n",
       "      <td>24545.2025</td>\n",
       "      <td>350.645750</td>\n",
       "    </tr>\n",
       "    <tr>\n",
       "      <th>South America</th>\n",
       "      <td>8.64</td>\n",
       "      <td>15810.0</td>\n",
       "      <td>142677.8080</td>\n",
       "      <td>469.334895</td>\n",
       "    </tr>\n",
       "    <tr>\n",
       "      <th>Southern Europe</th>\n",
       "      <td>7.30</td>\n",
       "      <td>2475.8</td>\n",
       "      <td>45225.7175</td>\n",
       "      <td>330.114726</td>\n",
       "    </tr>\n",
       "    <tr>\n",
       "      <th>Western Europe</th>\n",
       "      <td>8.50</td>\n",
       "      <td>15019.5</td>\n",
       "      <td>503548.4085</td>\n",
       "      <td>684.169033</td>\n",
       "    </tr>\n",
       "  </tbody>\n",
       "</table>\n",
       "</div>"
      ],
      "text/plain": [
       "                   min      max          sum        mean\n",
       "Region                                                  \n",
       "British Isles     4.80   9903.2  108951.2150  573.427447\n",
       "Central America  20.80   3952.5   16558.1000  301.056364\n",
       "Eastern Europe   22.35    591.6    3531.9500  220.746875\n",
       "North America    14.00  10540.0  295780.9005  692.695317\n",
       "Northern Europe  14.40  10540.0   87156.1625  609.483654\n",
       "Scandinavia      17.88   2108.0   24545.2025  350.645750\n",
       "South America     8.64  15810.0  142677.8080  469.334895\n",
       "Southern Europe   7.30   2475.8   45225.7175  330.114726\n",
       "Western Europe    8.50  15019.5  503548.4085  684.169033"
      ]
     },
     "execution_count": 168,
     "metadata": {},
     "output_type": "execute_result"
    }
   ],
   "source": [
    "df.groupby('Region')['Revenue'].agg(['min','max','sum','mean'])"
   ]
  },
  {
   "cell_type": "markdown",
   "metadata": {},
   "source": [
    "9 Regions have quite different total revenue at a glance with Western Europe being the top driver, following by North America. However, some regions have close average revenue per customer such as Western Europe and North America. Looking at avg revenue per customer helps the company evalute types of business in the region: Small - Meidum Business vs Enterprise"
   ]
  },
  {
   "cell_type": "code",
   "execution_count": 169,
   "metadata": {},
   "outputs": [
    {
     "data": {
      "text/plain": [
       "Region\n",
       "British Isles      190\n",
       "Central America     55\n",
       "Eastern Europe      16\n",
       "North America      427\n",
       "Northern Europe    143\n",
       "Scandinavia         70\n",
       "South America      304\n",
       "Southern Europe    137\n",
       "Western Europe     736\n",
       "Name: CustomerId, dtype: int64"
      ]
     },
     "execution_count": 169,
     "metadata": {},
     "output_type": "execute_result"
    }
   ],
   "source": [
    "#Number of Customers by Region \n",
    "df.groupby('Region')['CustomerId'].count()"
   ]
  },
  {
   "cell_type": "markdown",
   "metadata": {},
   "source": [
    "**Two ways of looking at regions**\n",
    "- Divide 9 regions to 5 bigger regions: Western & Eastern Europe; Northern & Southern Europe; British Isles & Scandinavia; North America; Central & South America\n",
    "- Divide 9 regions to 2 parts: Europe, Americas"
   ]
  },
  {
   "cell_type": "code",
   "execution_count": 171,
   "metadata": {},
   "outputs": [
    {
     "data": {
      "text/html": [
       "<div>\n",
       "<style scoped>\n",
       "    .dataframe tbody tr th:only-of-type {\n",
       "        vertical-align: middle;\n",
       "    }\n",
       "\n",
       "    .dataframe tbody tr th {\n",
       "        vertical-align: top;\n",
       "    }\n",
       "\n",
       "    .dataframe thead th {\n",
       "        text-align: right;\n",
       "    }\n",
       "</style>\n",
       "<table border=\"1\" class=\"dataframe\">\n",
       "  <thead>\n",
       "    <tr style=\"text-align: right;\">\n",
       "      <th></th>\n",
       "      <th>CustomerId</th>\n",
       "      <th>Region</th>\n",
       "      <th>UnitPrice</th>\n",
       "      <th>Quantity</th>\n",
       "      <th>Discount</th>\n",
       "      <th>Revenue</th>\n",
       "    </tr>\n",
       "  </thead>\n",
       "  <tbody>\n",
       "    <tr>\n",
       "      <th>0</th>\n",
       "      <td>VINET</td>\n",
       "      <td>Western Europe</td>\n",
       "      <td>14.0</td>\n",
       "      <td>12</td>\n",
       "      <td>0.0</td>\n",
       "      <td>168.0</td>\n",
       "    </tr>\n",
       "    <tr>\n",
       "      <th>1</th>\n",
       "      <td>VINET</td>\n",
       "      <td>Western Europe</td>\n",
       "      <td>9.8</td>\n",
       "      <td>10</td>\n",
       "      <td>0.0</td>\n",
       "      <td>98.0</td>\n",
       "    </tr>\n",
       "    <tr>\n",
       "      <th>2</th>\n",
       "      <td>VINET</td>\n",
       "      <td>Western Europe</td>\n",
       "      <td>34.8</td>\n",
       "      <td>5</td>\n",
       "      <td>0.0</td>\n",
       "      <td>174.0</td>\n",
       "    </tr>\n",
       "    <tr>\n",
       "      <th>3</th>\n",
       "      <td>TOMSP</td>\n",
       "      <td>Western Europe</td>\n",
       "      <td>18.6</td>\n",
       "      <td>9</td>\n",
       "      <td>0.0</td>\n",
       "      <td>167.4</td>\n",
       "    </tr>\n",
       "    <tr>\n",
       "      <th>4</th>\n",
       "      <td>TOMSP</td>\n",
       "      <td>Western Europe</td>\n",
       "      <td>42.4</td>\n",
       "      <td>40</td>\n",
       "      <td>0.0</td>\n",
       "      <td>1696.0</td>\n",
       "    </tr>\n",
       "  </tbody>\n",
       "</table>\n",
       "</div>"
      ],
      "text/plain": [
       "  CustomerId          Region  UnitPrice  Quantity  Discount  Revenue\n",
       "0      VINET  Western Europe       14.0        12       0.0    168.0\n",
       "1      VINET  Western Europe        9.8        10       0.0     98.0\n",
       "2      VINET  Western Europe       34.8         5       0.0    174.0\n",
       "3      TOMSP  Western Europe       18.6         9       0.0    167.4\n",
       "4      TOMSP  Western Europe       42.4        40       0.0   1696.0"
      ]
     },
     "execution_count": 171,
     "metadata": {},
     "output_type": "execute_result"
    }
   ],
   "source": [
    "df.head()"
   ]
  },
  {
   "cell_type": "code",
   "execution_count": 175,
   "metadata": {},
   "outputs": [],
   "source": [
    "df.loc[(df.Region == 'Western Europe') | (df.Region == 'Eastern Europe'), 'NewRegion'] = 'W & E Europe'\n",
    "df.loc[(df.Region == 'Northern Europe') | (df.Region == 'Southern Europe'), 'NewRegion'] = 'N & S Europe'\n",
    "df.loc[(df.Region == 'British Isles') | (df.Region == 'Scandinavia'), 'NewRegion'] = 'British Isles & Scandinavia'\n",
    "df.loc[df.Region == 'North America' , 'NewRegion'] = 'North America'\n",
    "df.loc[(df.Region == 'Central America') | (df.Region == 'South America'), 'NewRegion'] = 'C & S America'"
   ]
  },
  {
   "cell_type": "code",
   "execution_count": 176,
   "metadata": {},
   "outputs": [],
   "source": [
    "df.loc[(df.NewRegion == 'W & E Europe') | (df.NewRegion == 'N & S Europe') | (df.NewRegion == 'British Isles & Scandinavia'), 'Area'] = 'Europe'\n",
    "df.loc[(df.NewRegion == 'North America') | (df.NewRegion == 'C & S America'), 'Area'] = 'Americas'"
   ]
  },
  {
   "cell_type": "code",
   "execution_count": 177,
   "metadata": {},
   "outputs": [
    {
     "data": {
      "text/plain": [
       "Region\n",
       "British Isles      190\n",
       "Central America     55\n",
       "Eastern Europe      16\n",
       "North America      427\n",
       "Northern Europe    143\n",
       "Scandinavia         70\n",
       "South America      304\n",
       "Southern Europe    137\n",
       "Western Europe     736\n",
       "Name: NewRegion, dtype: int64"
      ]
     },
     "execution_count": 177,
     "metadata": {},
     "output_type": "execute_result"
    }
   ],
   "source": [
    "df.groupby('Region')['NewRegion'].count()"
   ]
  },
  {
   "cell_type": "code",
   "execution_count": 178,
   "metadata": {},
   "outputs": [
    {
     "data": {
      "text/html": [
       "<div>\n",
       "<style scoped>\n",
       "    .dataframe tbody tr th:only-of-type {\n",
       "        vertical-align: middle;\n",
       "    }\n",
       "\n",
       "    .dataframe tbody tr th {\n",
       "        vertical-align: top;\n",
       "    }\n",
       "\n",
       "    .dataframe thead th {\n",
       "        text-align: right;\n",
       "    }\n",
       "</style>\n",
       "<table border=\"1\" class=\"dataframe\">\n",
       "  <thead>\n",
       "    <tr style=\"text-align: right;\">\n",
       "      <th></th>\n",
       "      <th>min</th>\n",
       "      <th>max</th>\n",
       "      <th>sum</th>\n",
       "      <th>mean</th>\n",
       "      <th>count</th>\n",
       "    </tr>\n",
       "    <tr>\n",
       "      <th>NewRegion</th>\n",
       "      <th></th>\n",
       "      <th></th>\n",
       "      <th></th>\n",
       "      <th></th>\n",
       "      <th></th>\n",
       "    </tr>\n",
       "  </thead>\n",
       "  <tbody>\n",
       "    <tr>\n",
       "      <th>British Isles &amp; Scandinavia</th>\n",
       "      <td>4.80</td>\n",
       "      <td>9903.2</td>\n",
       "      <td>133496.4175</td>\n",
       "      <td>513.447760</td>\n",
       "      <td>260</td>\n",
       "    </tr>\n",
       "    <tr>\n",
       "      <th>C &amp; S America</th>\n",
       "      <td>8.64</td>\n",
       "      <td>15810.0</td>\n",
       "      <td>159235.9080</td>\n",
       "      <td>443.554061</td>\n",
       "      <td>359</td>\n",
       "    </tr>\n",
       "    <tr>\n",
       "      <th>N &amp; S Europe</th>\n",
       "      <td>7.30</td>\n",
       "      <td>10540.0</td>\n",
       "      <td>132381.8800</td>\n",
       "      <td>472.792429</td>\n",
       "      <td>280</td>\n",
       "    </tr>\n",
       "    <tr>\n",
       "      <th>North America</th>\n",
       "      <td>14.00</td>\n",
       "      <td>10540.0</td>\n",
       "      <td>295780.9005</td>\n",
       "      <td>692.695317</td>\n",
       "      <td>427</td>\n",
       "    </tr>\n",
       "    <tr>\n",
       "      <th>W &amp; E Europe</th>\n",
       "      <td>8.50</td>\n",
       "      <td>15019.5</td>\n",
       "      <td>507080.3585</td>\n",
       "      <td>674.308987</td>\n",
       "      <td>752</td>\n",
       "    </tr>\n",
       "  </tbody>\n",
       "</table>\n",
       "</div>"
      ],
      "text/plain": [
       "                               min      max          sum        mean  count\n",
       "NewRegion                                                                  \n",
       "British Isles & Scandinavia   4.80   9903.2  133496.4175  513.447760    260\n",
       "C & S America                 8.64  15810.0  159235.9080  443.554061    359\n",
       "N & S Europe                  7.30  10540.0  132381.8800  472.792429    280\n",
       "North America                14.00  10540.0  295780.9005  692.695317    427\n",
       "W & E Europe                  8.50  15019.5  507080.3585  674.308987    752"
      ]
     },
     "execution_count": 178,
     "metadata": {},
     "output_type": "execute_result"
    }
   ],
   "source": [
    "df.groupby('NewRegion')['Revenue'].agg(['min','max','sum','mean','count'])"
   ]
  },
  {
   "cell_type": "code",
   "execution_count": 187,
   "metadata": {},
   "outputs": [],
   "source": [
    "sub_df = df[['NewRegion','Revenue']]"
   ]
  },
  {
   "cell_type": "markdown",
   "metadata": {},
   "source": [
    "### 2.3 Hypothesis Test"
   ]
  },
  {
   "cell_type": "code",
   "execution_count": 194,
   "metadata": {},
   "outputs": [],
   "source": [
    "#Construct Test datasets: W&E Europe - E1, N&S Europe - E2, British & Scandinavia - E3, North America - A1, C&S America - A2\n",
    "E1 = sub_df[sub_df['NewRegion']=='W & E Europe']['Revenue']\n",
    "E2 = sub_df[sub_df['NewRegion']=='N & S Europe']['Revenue']\n",
    "E3 = sub_df[sub_df['NewRegion']=='British Isles & Scandinavia']['Revenue']\n",
    "A1 = sub_df[sub_df['NewRegion']=='North America']['Revenue']\n",
    "A2 = sub_df[sub_df['NewRegion']=='C & S America']['Revenue']"
   ]
  },
  {
   "cell_type": "code",
   "execution_count": 200,
   "metadata": {},
   "outputs": [
    {
     "data": {
      "text/plain": [
       "Text(0.5, 1.0, 'Distribution of Revenue by Region')"
      ]
     },
     "execution_count": 200,
     "metadata": {},
     "output_type": "execute_result"
    },
    {
     "data": {
      "image/png": "[encoded data removed]",
      "text/plain": [
       "<Figure size 1152x432 with 1 Axes>"
      ]
     },
     "metadata": {
      "needs_background": "light"
     },
     "output_type": "display_data"
    }
   ],
   "source": [
    "#Plot the distributions of 5 regions\n",
    "\n",
    "plt.figure(figsize=(16,6))\n",
    "ax = sns.distplot(E1, hist=False, label='W & E Europe')\n",
    "ax = sns.distplot(E2, hist=False, label='N & S Europe')\n",
    "ax = sns.distplot(E3, hist=False, label='British Isles & Scandinavia')\n",
    "ax = sns.distplot(A1, hist=False, label='North America')\n",
    "ax = sns.distplot(A2, hist=False, label='C & S America')\n",
    "plt.title('Distribution of Revenue by Region')"
   ]
  },
  {
   "cell_type": "markdown",
   "metadata": {},
   "source": [
    "Not normally distributed. However, the sample size is large enough. "
   ]
  },
  {
   "cell_type": "code",
   "execution_count": null,
   "metadata": {},
   "outputs": [],
   "source": []
  },
  {
   "cell_type": "markdown",
   "metadata": {},
   "source": [
    "### Test of Equal Variance"
   ]
  },
  {
   "cell_type": "markdown",
   "metadata": {},
   "source": [
    "Perform Levene test for equal variances.\n",
    "\n",
    "The Levene test tests the null hypothesis that all input samples are from populations with equal variances. Levene’s test is an alternative to Bartlett’s test bartlett in the case where there are significant deviations from normality."
   ]
  },
  {
   "cell_type": "code",
   "execution_count": 202,
   "metadata": {
    "scrolled": true
   },
   "outputs": [
    {
     "data": {
      "text/plain": [
       "LeveneResult(statistic=6.967192914829611, pvalue=1.4370398126083202e-05)"
      ]
     },
     "execution_count": 202,
     "metadata": {},
     "output_type": "execute_result"
    }
   ],
   "source": [
    "stats.levene(E1,E2,E3,A1,A2, center='mean')"
   ]
  },
  {
   "cell_type": "markdown",
   "metadata": {},
   "source": [
    "The Pvalue is < alpha(0.05), so we can reject the null hypothesis that both samples are from populations with equal variance. Therefore, we have to use non-parametric Krusal-Wallis Test "
   ]
  },
  {
   "cell_type": "markdown",
   "metadata": {},
   "source": [
    "### Krusal-Wallis Test\n",
    "\n",
    "The Kruskal-Wallis H-test tests the null hypothesis that the population median of all of the groups are equal. It is a non-parametric version of ANOVA. The test works on 2 or more independent samples, which may have different sizes. Note that rejecting the null hypothesis does not indicate which of the groups differs. Post-hoc comparisons between groups are required to determine which groups are different."
   ]
  },
  {
   "cell_type": "code",
   "execution_count": 203,
   "metadata": {},
   "outputs": [
    {
     "data": {
      "text/plain": [
       "KruskalResult(statistic=49.93763885917185, pvalue=3.720760437171133e-10)"
      ]
     },
     "execution_count": 203,
     "metadata": {},
     "output_type": "execute_result"
    }
   ],
   "source": [
    "stats.kruskal(E1, E2, E3, A1, A2)"
   ]
  },
  {
   "cell_type": "markdown",
   "metadata": {},
   "source": [
    "P-value is < alpha (0.05), therefore we can reject the null. There is significant difference in the average revenue in 5 regions. "
   ]
  },
  {
   "cell_type": "code",
   "execution_count": 212,
   "metadata": {},
   "outputs": [
    {
     "data": {
      "text/html": [
       "<table class=\"simpletable\">\n",
       "<caption>Multiple Comparison of Means - Tukey HSD,FWER=0.05</caption>\n",
       "<tr>\n",
       "            <th>group1</th>               <th>group2</th>     <th>meandiff</th>   <th>lower</th>     <th>upper</th>  <th>reject</th>\n",
       "</tr>\n",
       "<tr>\n",
       "  <td>British Isles & Scandinavia</td> <td>C & S America</td> <td>-69.8937</td> <td>-285.7023</td> <td>145.9149</td>  <td>False</td>\n",
       "</tr>\n",
       "<tr>\n",
       "  <td>British Isles & Scandinavia</td> <td>N & S Europe</td>  <td>-40.6553</td> <td>-268.8937</td>  <td>187.583</td>  <td>False</td>\n",
       "</tr>\n",
       "<tr>\n",
       "  <td>British Isles & Scandinavia</td> <td>North America</td> <td>179.2476</td> <td>-29.2184</td>  <td>387.7135</td>  <td>False</td>\n",
       "</tr>\n",
       "<tr>\n",
       "  <td>British Isles & Scandinavia</td> <td>W & E Europe</td>  <td>160.8612</td> <td>-29.7955</td>  <td>351.5179</td>  <td>False</td>\n",
       "</tr>\n",
       "<tr>\n",
       "         <td>C & S America</td>        <td>N & S Europe</td>   <td>29.2384</td> <td>-182.0529</td> <td>240.5296</td>  <td>False</td>\n",
       "</tr>\n",
       "<tr>\n",
       "         <td>C & S America</td>        <td>North America</td> <td>249.1413</td>   <td>59.38</td>   <td>438.9025</td>  <td>True</td> \n",
       "</tr>\n",
       "<tr>\n",
       "         <td>C & S America</td>        <td>W & E Europe</td>  <td>230.7549</td>  <td>60.7513</td>  <td>400.7586</td>  <td>True</td> \n",
       "</tr>\n",
       "<tr>\n",
       "         <td>N & S Europe</td>         <td>North America</td> <td>219.9029</td>  <td>16.117</td>   <td>423.6888</td>  <td>True</td> \n",
       "</tr>\n",
       "<tr>\n",
       "         <td>N & S Europe</td>         <td>W & E Europe</td>  <td>201.5166</td>  <td>15.9886</td>  <td>387.0445</td>  <td>True</td> \n",
       "</tr>\n",
       "<tr>\n",
       "         <td>North America</td>        <td>W & E Europe</td>  <td>-18.3863</td> <td>-178.9663</td> <td>142.1937</td>  <td>False</td>\n",
       "</tr>\n",
       "</table>"
      ],
      "text/plain": [
       "<class 'statsmodels.iolib.table.SimpleTable'>"
      ]
     },
     "execution_count": 212,
     "metadata": {},
     "output_type": "execute_result"
    },
    {
     "data": {
      "image/png": "[encoded data removed]",
      "text/plain": [
       "<Figure size 720x432 with 1 Axes>"
      ]
     },
     "metadata": {
      "needs_background": "light"
     },
     "output_type": "display_data"
    }
   ],
   "source": [
    "#Tukey's HSD post-hoc comparisons\n",
    "from statsmodels.stats.multicomp import MultiComparison\n",
    "from statsmodels.stats.multicomp import pairwise_tukeyhsd\n",
    "\n",
    "com = MultiComparison(df['Revenue'], df['NewRegion'])\n",
    "tukey = com.tukeyhsd()\n",
    "tukey.plot_simultaneous(comparison_name='W & E Europe', xlabel='Revenue', ylabel='Region')\n",
    "tukey.summary()\n"
   ]
  },
  {
   "cell_type": "markdown",
   "metadata": {},
   "source": [
    "plot_intervals will color code all groups that are significantly different from the comparison_name red, and will color code insignificant groups gray. Otherwise, all intervals will just be plotted in black."
   ]
  },
  {
   "cell_type": "markdown",
   "metadata": {},
   "source": [
    "Conclusion: The average revenue of W&E Europe and North American is not significantly different"
   ]
  },
  {
   "cell_type": "code",
   "execution_count": 63,
   "metadata": {},
   "outputs": [],
   "source": [
    "product = df_sql(\n",
    "\"\"\"\n",
    "SELECT * FROM Product\n",
    "\n",
    "\"\"\")"
   ]
  },
  {
   "cell_type": "code",
   "execution_count": 64,
   "metadata": {},
   "outputs": [
    {
     "data": {
      "text/html": [
       "<div>\n",
       "<style scoped>\n",
       "    .dataframe tbody tr th:only-of-type {\n",
       "        vertical-align: middle;\n",
       "    }\n",
       "\n",
       "    .dataframe tbody tr th {\n",
       "        vertical-align: top;\n",
       "    }\n",
       "\n",
       "    .dataframe thead th {\n",
       "        text-align: right;\n",
       "    }\n",
       "</style>\n",
       "<table border=\"1\" class=\"dataframe\">\n",
       "  <thead>\n",
       "    <tr style=\"text-align: right;\">\n",
       "      <th></th>\n",
       "      <th>Id</th>\n",
       "      <th>ProductName</th>\n",
       "      <th>SupplierId</th>\n",
       "      <th>CategoryId</th>\n",
       "      <th>QuantityPerUnit</th>\n",
       "      <th>UnitPrice</th>\n",
       "      <th>UnitsInStock</th>\n",
       "      <th>UnitsOnOrder</th>\n",
       "      <th>ReorderLevel</th>\n",
       "      <th>Discontinued</th>\n",
       "    </tr>\n",
       "  </thead>\n",
       "  <tbody>\n",
       "    <tr>\n",
       "      <th>0</th>\n",
       "      <td>1</td>\n",
       "      <td>Chai</td>\n",
       "      <td>1</td>\n",
       "      <td>1</td>\n",
       "      <td>10 boxes x 20 bags</td>\n",
       "      <td>18.00</td>\n",
       "      <td>39</td>\n",
       "      <td>0</td>\n",
       "      <td>10</td>\n",
       "      <td>0</td>\n",
       "    </tr>\n",
       "    <tr>\n",
       "      <th>1</th>\n",
       "      <td>2</td>\n",
       "      <td>Chang</td>\n",
       "      <td>1</td>\n",
       "      <td>1</td>\n",
       "      <td>24 - 12 oz bottles</td>\n",
       "      <td>19.00</td>\n",
       "      <td>17</td>\n",
       "      <td>40</td>\n",
       "      <td>25</td>\n",
       "      <td>0</td>\n",
       "    </tr>\n",
       "    <tr>\n",
       "      <th>2</th>\n",
       "      <td>3</td>\n",
       "      <td>Aniseed Syrup</td>\n",
       "      <td>1</td>\n",
       "      <td>2</td>\n",
       "      <td>12 - 550 ml bottles</td>\n",
       "      <td>10.00</td>\n",
       "      <td>13</td>\n",
       "      <td>70</td>\n",
       "      <td>25</td>\n",
       "      <td>0</td>\n",
       "    </tr>\n",
       "    <tr>\n",
       "      <th>3</th>\n",
       "      <td>4</td>\n",
       "      <td>Chef Anton's Cajun Seasoning</td>\n",
       "      <td>2</td>\n",
       "      <td>2</td>\n",
       "      <td>48 - 6 oz jars</td>\n",
       "      <td>22.00</td>\n",
       "      <td>53</td>\n",
       "      <td>0</td>\n",
       "      <td>0</td>\n",
       "      <td>0</td>\n",
       "    </tr>\n",
       "    <tr>\n",
       "      <th>4</th>\n",
       "      <td>5</td>\n",
       "      <td>Chef Anton's Gumbo Mix</td>\n",
       "      <td>2</td>\n",
       "      <td>2</td>\n",
       "      <td>36 boxes</td>\n",
       "      <td>21.35</td>\n",
       "      <td>0</td>\n",
       "      <td>0</td>\n",
       "      <td>0</td>\n",
       "      <td>1</td>\n",
       "    </tr>\n",
       "  </tbody>\n",
       "</table>\n",
       "</div>"
      ],
      "text/plain": [
       "   Id                   ProductName  SupplierId  CategoryId  \\\n",
       "0   1                          Chai           1           1   \n",
       "1   2                         Chang           1           1   \n",
       "2   3                 Aniseed Syrup           1           2   \n",
       "3   4  Chef Anton's Cajun Seasoning           2           2   \n",
       "4   5        Chef Anton's Gumbo Mix           2           2   \n",
       "\n",
       "       QuantityPerUnit  UnitPrice  UnitsInStock  UnitsOnOrder  ReorderLevel  \\\n",
       "0   10 boxes x 20 bags      18.00            39             0            10   \n",
       "1   24 - 12 oz bottles      19.00            17            40            25   \n",
       "2  12 - 550 ml bottles      10.00            13            70            25   \n",
       "3       48 - 6 oz jars      22.00            53             0             0   \n",
       "4             36 boxes      21.35             0             0             0   \n",
       "\n",
       "   Discontinued  \n",
       "0             0  \n",
       "1             0  \n",
       "2             0  \n",
       "3             0  \n",
       "4             1  "
      ]
     },
     "execution_count": 64,
     "metadata": {},
     "output_type": "execute_result"
    }
   ],
   "source": [
    "product.head()"
   ]
  },
  {
   "cell_type": "code",
   "execution_count": 65,
   "metadata": {
    "scrolled": true
   },
   "outputs": [
    {
     "data": {
      "text/html": [
       "<div>\n",
       "<style scoped>\n",
       "    .dataframe tbody tr th:only-of-type {\n",
       "        vertical-align: middle;\n",
       "    }\n",
       "\n",
       "    .dataframe tbody tr th {\n",
       "        vertical-align: top;\n",
       "    }\n",
       "\n",
       "    .dataframe thead th {\n",
       "        text-align: right;\n",
       "    }\n",
       "</style>\n",
       "<table border=\"1\" class=\"dataframe\">\n",
       "  <thead>\n",
       "    <tr style=\"text-align: right;\">\n",
       "      <th></th>\n",
       "      <th>Id</th>\n",
       "      <th>CategoryName</th>\n",
       "      <th>Description</th>\n",
       "    </tr>\n",
       "  </thead>\n",
       "  <tbody>\n",
       "    <tr>\n",
       "      <th>0</th>\n",
       "      <td>1</td>\n",
       "      <td>Beverages</td>\n",
       "      <td>Soft drinks, coffees, teas, beers, and ales</td>\n",
       "    </tr>\n",
       "    <tr>\n",
       "      <th>1</th>\n",
       "      <td>2</td>\n",
       "      <td>Condiments</td>\n",
       "      <td>Sweet and savory sauces, relishes, spreads, an...</td>\n",
       "    </tr>\n",
       "    <tr>\n",
       "      <th>2</th>\n",
       "      <td>3</td>\n",
       "      <td>Confections</td>\n",
       "      <td>Desserts, candies, and sweet breads</td>\n",
       "    </tr>\n",
       "    <tr>\n",
       "      <th>3</th>\n",
       "      <td>4</td>\n",
       "      <td>Dairy Products</td>\n",
       "      <td>Cheeses</td>\n",
       "    </tr>\n",
       "    <tr>\n",
       "      <th>4</th>\n",
       "      <td>5</td>\n",
       "      <td>Grains/Cereals</td>\n",
       "      <td>Breads, crackers, pasta, and cereal</td>\n",
       "    </tr>\n",
       "  </tbody>\n",
       "</table>\n",
       "</div>"
      ],
      "text/plain": [
       "   Id    CategoryName                                        Description\n",
       "0   1       Beverages        Soft drinks, coffees, teas, beers, and ales\n",
       "1   2      Condiments  Sweet and savory sauces, relishes, spreads, an...\n",
       "2   3     Confections                Desserts, candies, and sweet breads\n",
       "3   4  Dairy Products                                            Cheeses\n",
       "4   5  Grains/Cereals                Breads, crackers, pasta, and cereal"
      ]
     },
     "execution_count": 65,
     "metadata": {},
     "output_type": "execute_result"
    }
   ],
   "source": [
    "#Join Product and Category\n",
    "\n",
    "category = df_sql(\"\"\"\n",
    "SELECT * FROM Category\n",
    "\"\"\")\n",
    "category.head()"
   ]
  },
  {
   "cell_type": "code",
   "execution_count": null,
   "metadata": {},
   "outputs": [],
   "source": []
  },
  {
   "cell_type": "code",
   "execution_count": null,
   "metadata": {},
   "outputs": [],
   "source": []
  },
  {
   "cell_type": "code",
   "execution_count": 84,
   "metadata": {},
   "outputs": [],
   "source": [
    "df = df_sql(\n",
    "\"\"\"\n",
    "SELECT * FROM\n",
    "\n",
    "(SELECT D.ProductId, D.UnitPrice, D.Quantity, D.Discount, E.ID AS OrderId, E.ShipRegion, E.ShipCity, E.ShipCountry  FROM 'OrderDetail' AS D\n",
    "LEFT JOIN 'Order'AS E\n",
    "ON D.OrderId = E.Id) O\n",
    "\n",
    "LEFT JOIN\n",
    "\n",
    "(SELECT * FROM product\n",
    "LEFT JOIN Category\n",
    "ON product.CategoryId = Category.Id) P\n",
    "ON \n",
    "O.ProductId = P.Id\n",
    "\n",
    "\"\"\")\n"
   ]
  },
  {
   "cell_type": "code",
   "execution_count": 85,
   "metadata": {},
   "outputs": [
    {
     "name": "stdout",
     "output_type": "stream",
     "text": [
      "<class 'pandas.core.frame.DataFrame'>\n",
      "RangeIndex: 2155 entries, 0 to 2154\n",
      "Data columns (total 21 columns):\n",
      "ProductId          2155 non-null int64\n",
      "UnitPrice          2155 non-null float64\n",
      "Quantity           2155 non-null int64\n",
      "Discount           2155 non-null float64\n",
      "OrderId            2155 non-null int64\n",
      "ShipRegion         2155 non-null object\n",
      "ShipCity           2155 non-null object\n",
      "ShipCountry        2155 non-null object\n",
      "Id                 2155 non-null int64\n",
      "ProductName        2155 non-null object\n",
      "SupplierId         2155 non-null int64\n",
      "CategoryId         2155 non-null int64\n",
      "QuantityPerUnit    2155 non-null object\n",
      "UnitPrice          2155 non-null float64\n",
      "UnitsInStock       2155 non-null int64\n",
      "UnitsOnOrder       2155 non-null int64\n",
      "ReorderLevel       2155 non-null int64\n",
      "Discontinued       2155 non-null int64\n",
      "Id:1               2155 non-null int64\n",
      "CategoryName       2155 non-null object\n",
      "Description        2155 non-null object\n",
      "dtypes: float64(3), int64(11), object(7)\n",
      "memory usage: 353.6+ KB\n"
     ]
    }
   ],
   "source": [
    "df.info()"
   ]
  },
  {
   "cell_type": "code",
   "execution_count": null,
   "metadata": {},
   "outputs": [],
   "source": []
  },
  {
   "cell_type": "code",
   "execution_count": 87,
   "metadata": {},
   "outputs": [],
   "source": [
    "df = df.drop(columns=['Id','Id:1'])"
   ]
  },
  {
   "cell_type": "code",
   "execution_count": 95,
   "metadata": {},
   "outputs": [],
   "source": [
    "regions = df['ShipRegion'].unique()"
   ]
  },
  {
   "cell_type": "code",
   "execution_count": 106,
   "metadata": {},
   "outputs": [
    {
     "name": "stdout",
     "output_type": "stream",
     "text": [
      "Text(0.5, 1.0, 'Quantity by Categories in Western Europe')\n",
      "Text(0.5, 1.0, 'Quantity by Categories in South America')\n",
      "Text(0.5, 1.0, 'Quantity by Categories in Central America')\n",
      "Text(0.5, 1.0, 'Quantity by Categories in North America')\n",
      "Text(0.5, 1.0, 'Quantity by Categories in Northern Europe')\n",
      "Text(0.5, 1.0, 'Quantity by Categories in Scandinavia')\n",
      "Text(0.5, 1.0, 'Quantity by Categories in Southern Europe')\n",
      "Text(0.5, 1.0, 'Quantity by Categories in British Isles')\n",
      "Text(0.5, 1.0, 'Quantity by Categories in Eastern Europe')\n"
     ]
    },
    {
     "data": {
      "image/png": "[encoded data removed]",
      "text/plain": [
       "<Figure size 432x288 with 1 Axes>"
      ]
     },
     "metadata": {
      "needs_background": "light"
     },
     "output_type": "display_data"
    },
    {
     "data": {
      "image/png": "[encoded data removed]",
      "text/plain": [
       "<Figure size 432x288 with 1 Axes>"
      ]
     },
     "metadata": {
      "needs_background": "light"
     },
     "output_type": "display_data"
    },
    {
     "data": {
      "image/png": "[encoded data removed]",
      "text/plain": [
       "<Figure size 432x288 with 1 Axes>"
      ]
     },
     "metadata": {
      "needs_background": "light"
     },
     "output_type": "display_data"
    },
    {
     "data": {
      "image/png": "[encoded data removed]",
      "text/plain": [
       "<Figure size 432x288 with 1 Axes>"
      ]
     },
     "metadata": {
      "needs_background": "light"
     },
     "output_type": "display_data"
    },
    {
     "data": {
      "image/png": "[encoded data removed]",
      "text/plain": [
       "<Figure size 432x288 with 1 Axes>"
      ]
     },
     "metadata": {
      "needs_background": "light"
     },
     "output_type": "display_data"
    },
    {
     "data": {
      "image/png": "[encoded data removed]",
      "text/plain": [
       "<Figure size 432x288 with 1 Axes>"
      ]
     },
     "metadata": {
      "needs_background": "light"
     },
     "output_type": "display_data"
    },
    {
     "data": {
      "image/png": "[encoded data removed]",
      "text/plain": [
       "<Figure size 432x288 with 1 Axes>"
      ]
     },
     "metadata": {
      "needs_background": "light"
     },
     "output_type": "display_data"
    },
    {
     "data": {
      "image/png": "[encoded data removed]",
      "text/plain": [
       "<Figure size 432x288 with 1 Axes>"
      ]
     },
     "metadata": {
      "needs_background": "light"
     },
     "output_type": "display_data"
    },
    {
     "data": {
      "image/png": "[encoded data removed]",
      "text/plain": [
       "<Figure size 432x288 with 1 Axes>"
      ]
     },
     "metadata": {
      "needs_background": "light"
     },
     "output_type": "display_data"
    }
   ],
   "source": [
    "#Explore category within each region\n",
    "for i in regions:\n",
    "    \n",
    "    x = df[df['ShipRegion']==i]\n",
    "    plt.figure()\n",
    "    x.groupby('CategoryName')['Quantity'].sum().plot.bar()\n",
    "    print(plt.title(\"Quantity by Categories in \" + i))\n",
    "\n",
    "    "
   ]
  },
  {
   "cell_type": "code",
   "execution_count": 90,
   "metadata": {},
   "outputs": [],
   "source": [
    "West_Europe = df[df['ShipRegion']=='Western Europe']"
   ]
  },
  {
   "cell_type": "code",
   "execution_count": 92,
   "metadata": {},
   "outputs": [
    {
     "data": {
      "text/plain": [
       "<matplotlib.axes._subplots.AxesSubplot at 0x1c247bce48>"
      ]
     },
     "execution_count": 92,
     "metadata": {},
     "output_type": "execute_result"
    },
    {
     "data": {
      "image/png": "[encoded data removed]",
      "text/plain": [
       "<Figure size 432x288 with 1 Axes>"
      ]
     },
     "metadata": {
      "needs_background": "light"
     },
     "output_type": "display_data"
    }
   ],
   "source": [
    "West_Europe.groupby('CategoryName')['Quantity'].sum().plot.bar()"
   ]
  },
  {
   "cell_type": "code",
   "execution_count": 47,
   "metadata": {},
   "outputs": [
    {
     "data": {
      "text/plain": [
       "9"
      ]
     },
     "execution_count": 47,
     "metadata": {},
     "output_type": "execute_result"
    }
   ],
   "source": [
    "df['ShipRegion'].nunique()"
   ]
  },
  {
   "cell_type": "code",
   "execution_count": 51,
   "metadata": {},
   "outputs": [
    {
     "data": {
      "text/plain": [
       "2"
      ]
     },
     "execution_count": 51,
     "metadata": {},
     "output_type": "execute_result"
    }
   ],
   "source": [
    "df['Region'].nunique()"
   ]
  },
  {
   "cell_type": "code",
   "execution_count": null,
   "metadata": {},
   "outputs": [],
   "source": []
  },
  {
   "cell_type": "code",
   "execution_count": null,
   "metadata": {},
   "outputs": [],
   "source": []
  },
  {
   "cell_type": "code",
   "execution_count": null,
   "metadata": {},
   "outputs": [],
   "source": []
  },
  {
   "cell_type": "code",
   "execution_count": null,
   "metadata": {},
   "outputs": [],
   "source": []
  },
  {
   "cell_type": "markdown",
   "metadata": {},
   "source": [
    "## Does Seasonality impact Sales?\n",
    "- Does seasonality impact all sales?\n",
    "- Does seasonality impact all regions?\n",
    "- Does seasonality impact all categories? If so, what is our stategy? \n"
   ]
  },
  {
   "cell_type": "code",
   "execution_count": null,
   "metadata": {},
   "outputs": [],
   "source": []
  },
  {
   "cell_type": "code",
   "execution_count": null,
   "metadata": {},
   "outputs": [],
   "source": []
  }
 ],
 "metadata": {
  "kernelspec": {
   "display_name": "Python 3",
   "language": "python",
   "name": "python3"
  },
  "language_info": {
   "codemirror_mode": {
    "name": "ipython",
    "version": 3
   },
   "file_extension": ".py",
   "mimetype": "text/x-python",
   "name": "python",
   "nbconvert_exporter": "python",
   "pygments_lexer": "ipython3",
   "version": "3.7.1"
  }
 },
 "nbformat": 4,
 "nbformat_minor": 2
}
