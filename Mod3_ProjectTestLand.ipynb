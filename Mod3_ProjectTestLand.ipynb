{
 "cells": [
  {
   "cell_type": "markdown",
   "metadata": {},
   "source": [
    "## Question Exploration \n",
    "- If seasonality plays a factor in discount?\n",
    "- Is there a different impact of discount on different categories?\n",
    "- What category sell more? - If category A sell more than category B\n",
    "- What category sell more in winter vs summer?\n",
    "- What Region do well or not so well? Create a program based on region.\n",
    "- What are the most popular product?\n",
    "- Customer location vs order location? If customers order for themselves or for other people?\n",
    "- Delivery company which is faster?\n"
   ]
  },
  {
   "cell_type": "markdown",
   "metadata": {},
   "source": [
    "### Brain storming - Metrics\n",
    "- Discount\n",
    "- Revenue\n",
    "- Price\n",
    "- Units in stock\n",
    "- Customer location (location based sales?)\n",
    "- Quantity\n",
    "- Seasonality (holiday vs summer)\n",
    "- Product Category\n",
    "- Product Price\n",
    "\n"
   ]
  },
  {
   "cell_type": "markdown",
   "metadata": {},
   "source": [
    "### Make functions\n",
    "- SQL helper\n",
    "- Statistical test helper\n"
   ]
  },
  {
   "cell_type": "markdown",
   "metadata": {},
   "source": [
    "### Facts about the data"
   ]
  },
  {
   "cell_type": "markdown",
   "metadata": {},
   "source": [
    "#### Order Table:\n",
    "\n",
    "- 9 unique shipping regions\n",
    "- Order Date from 2012-07-04 to 2014-05-06\n",
    "- "
   ]
  },
  {
   "cell_type": "code",
   "execution_count": null,
   "metadata": {},
   "outputs": [],
   "source": []
  },
  {
   "cell_type": "code",
   "execution_count": null,
   "metadata": {},
   "outputs": [],
   "source": []
  },
  {
   "cell_type": "markdown",
   "metadata": {},
   "source": [
    "https://github.com/Maugy/dsc-mod-3-project-atlanta-ds-091619/blob/master/Mod3-Project-David_Mauger.ipynb"
   ]
  },
  {
   "cell_type": "markdown",
   "metadata": {},
   "source": [
    "https://github.com/carolanntmoore/dsc-mod-3-project-atlanta-ds-091619/blob/master/Mod3Project.ipynb"
   ]
  },
  {
   "cell_type": "markdown",
   "metadata": {},
   "source": [
    "https://github.com/callRoko/Northwind_Project"
   ]
  },
  {
   "cell_type": "code",
   "execution_count": null,
   "metadata": {},
   "outputs": [],
   "source": []
  }
 ],
 "metadata": {
  "kernelspec": {
   "display_name": "Python 3",
   "language": "python",
   "name": "python3"
  },
  "language_info": {
   "codemirror_mode": {
    "name": "ipython",
    "version": 3
   },
   "file_extension": ".py",
   "mimetype": "text/x-python",
   "name": "python",
   "nbconvert_exporter": "python",
   "pygments_lexer": "ipython3",
   "version": "3.7.1"
  }
 },
 "nbformat": 4,
 "nbformat_minor": 2
}
